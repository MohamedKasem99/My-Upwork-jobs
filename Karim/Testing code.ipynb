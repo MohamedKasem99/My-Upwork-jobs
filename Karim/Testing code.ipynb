{
 "cells": [
  {
   "cell_type": "code",
   "execution_count": 1,
   "metadata": {},
   "outputs": [
    {
     "name": "stdout",
     "output_type": "stream",
     "text": [
      "Obtained my token successfully!\n",
      "{'data': 1, 'error': 'success', 'error_Description': 'Task is started successfully!'}\n",
      "{'data': 1, 'error': 'success', 'error_Description': 'Task is started successfully!'}\n",
      "{'data': 1, 'error': 'success', 'error_Description': 'Task is started successfully!'}\n",
      "{'data': 1, 'error': 'success', 'error_Description': 'Task is started successfully!'}\n"
     ]
    }
   ],
   "source": [
    "import run_api"
   ]
  },
  {
   "cell_type": "code",
   "execution_count": 2,
   "metadata": {},
   "outputs": [
    {
     "name": "stderr",
     "output_type": "stream",
     "text": [
      "[nltk_data] Downloading package stopwords to /home/kasem/nltk_data...\n",
      "[nltk_data]   Package stopwords is already up-to-date!\n",
      "[nltk_data] Downloading package punkt to /home/kasem/nltk_data...\n",
      "[nltk_data]   Package punkt is already up-to-date!\n"
     ]
    }
   ],
   "source": [
    "import utils\n",
    "from ner import NER\n",
    "\n",
    "csv = utils.csv\n",
    "pd = utils.pd\n",
    "np = utils.np\n",
    "nltk = utils.nltk\n",
    "itertools = utils.itertools\n",
    "re = utils.re"
   ]
  },
  {
   "cell_type": "code",
   "execution_count": 3,
   "metadata": {},
   "outputs": [],
   "source": [
    "xls = pd.ExcelFile('strings stems.xlsx')\n",
    "first = pd.read_excel(xls, 'first').dropna(axis=1, how='all').dropna(axis=0, how='all')\n",
    "parent_second = pd.read_excel(xls, 'parent second').dropna(axis=1, how='all').dropna(axis=0, how='all')\n",
    "tutoring = pd.read_excel(xls, 'Tutoring').dropna(axis=1, how='all').dropna(axis=0, how='all')\n",
    "bad_keywords= pd.read_excel(xls, 'bad keywords').dropna(axis=1, how='all').dropna(axis=0, how='all')\n",
    "at_least_another= pd.read_excel(xls, 'at least another').dropna(axis=1, how='all').dropna(axis=0, how='all')\n",
    "\n",
    "payments = pd.read_excel(xls, 'payments').dropna(axis=1, how='all').dropna(axis=0, how='all')\n",
    "contract = pd.read_excel(xls, 'contract').dropna(axis=1, how='all').dropna(axis=0, how='all')\n",
    "\n",
    "\n",
    "utils.pre_process_df_keywords(parent_second)\n",
    "utils.pre_process_df_keywords(first)\n",
    "utils.pre_process_df_keywords(bad_keywords)\n",
    "\n"
   ]
  },
  {
   "cell_type": "code",
   "execution_count": 4,
   "metadata": {},
   "outputs": [],
   "source": [
    "extractor = NER()"
   ]
  },
  {
   "cell_type": "code",
   "execution_count": 5,
   "metadata": {},
   "outputs": [],
   "source": [
    "Nfiles_df_list, first_extract, second_extract, third_extract = run_api.Nfiles_df_list, run_api.first_extract_df, run_api.second_extract_df, run_api.third_extract_df\n",
    "first_extract.rename(inplace=True, columns={\"field1_Text_Text\": \"title\", \"field1_Link_Link\": \"link\"})\n",
    "first_extract = run_api.cleanup_df(first_extract,\"title\")\n",
    "second_extract = run_api.cleanup_df(second_extract,\"field1\")\n",
    "third_extract = run_api.cleanup_df(third_extract,\"email\")\n",
    "\n",
    "extracted_pay = utils.extract_pay_info(second_extract,extractor)"
   ]
  },
  {
   "cell_type": "code",
   "execution_count": 6,
   "metadata": {},
   "outputs": [],
   "source": [
    "second_extract_pay_appended = second_extract.reset_index().merge(extracted_pay.reset_index(), on=\"index\",how=\"left\").drop([\"index\",\"field\",\"Res\"],axis=1)\n",
    "all_info = second_extract_pay_appended.merge(third_extract, on= \"field1\", how=\"left\").dropna().drop_duplicates(subset = \"email\")\n",
    "all_info.rename(columns={\"field1\": \"title\", \"field2\":\"body\", \"field3\": \"compensation\",\"email\": \"email\", \"Decesion\":\"pay_amount\"}, inplace=True)\n",
    "\n",
    "all_info.to_csv(\"sent.csv\", index= False)"
   ]
  },
  {
   "cell_type": "code",
   "execution_count": 20,
   "metadata": {},
   "outputs": [
    {
     "data": {
      "text/plain": [
       "array(['a graphic designer'], dtype=object)"
      ]
     },
     "execution_count": 20,
     "metadata": {},
     "output_type": "execute_result"
    }
   ],
   "source": [
    "pay_amount, rate, cl_email = -1, \"NA\", \"\"\n",
    "\n",
    "title = \"I need a graphic design\"\n",
    "\n",
    "body = \"\"\"QR Code Link to This Post\n",
    "\n",
    "I'm looking for a graphic designer who can alter some of my photos and add text\n",
    "on them to look like a magazine cover or an add.\n",
    "Someone who can write in different languages (Russian preferred) would be great.\n",
    "Please send me your work to look at.\n",
    "I will pay $15- $40 per picture, depends on how much text. I need about 6 pictures.\n",
    "\"\"\"     \n",
    "raw_job_post = title + \"\\n\\n\" + body\n",
    "generated_email = \"\"\n",
    "\n",
    "raw_job_post = raw_job_post.replace(\"QR Code Link to This Post\", \"\").lower()\n",
    "\n",
    "job_post = utils.pre_process(raw_job_post)\n",
    "\n",
    "if len(raw_job_post) < 5 and len(raw_job_post.split()) <2:\n",
    "    print(f\"Breaking!! because is too short\\n\\n\")\n",
    "#     continue\n",
    "\n",
    "\n",
    "if any(utils.step_1(raw_job_post, utils.get_two_word(job_post), bad_keywords)):\n",
    "    print(f\"Breaking!! because {utils.step_1(raw_job_post, utils.get_two_word(job_post), bad_keywords)} detected\\n\\n\") \n",
    "#     continue\n",
    "\n",
    "first_result = utils.find_workers(raw_job_post, job_post, first, at_least_another)[0]\n",
    "first_result"
   ]
  },
  {
   "cell_type": "code",
   "execution_count": 21,
   "metadata": {},
   "outputs": [
    {
     "data": {
      "text/plain": [
       "array(['photoshop', 'indesign', 'russian'], dtype=object)"
      ]
     },
     "execution_count": 21,
     "metadata": {},
     "output_type": "execute_result"
    }
   ],
   "source": [
    "highest_match = utils.find_workers(raw_job_post, job_post, first, at_least_another)[1]\n",
    "parent_second_result = utils.find_workers(raw_job_post, job_post, parent_second)[0]\n",
    "tutoring_result = utils.find_workers(raw_job_post, job_post, tutoring)[0]\n",
    "parent_second_result"
   ]
  },
  {
   "cell_type": "code",
   "execution_count": 22,
   "metadata": {},
   "outputs": [
    {
     "name": "stdout",
     "output_type": "stream",
     "text": [
      "Test\n",
      "Title: I need a graphic design\n",
      "body: QR Code Link to This Post\n",
      "\n",
      "I'm looking for a graphic designer who can alter some of my photos and add text\n",
      "on them to look like a magazine cover or an add.\n",
      "Someone who can write in different languages (Russian preferred) would be great.\n",
      "Please send me your work to look at.\n",
      "I will pay $15- $40 per picture, depends on how much text. I need about 6 pictures.\n",
      "\n",
      "\n",
      "\n",
      "generated email: \n",
      "\n",
      "Greetings,\n",
      "I see that you are looking for a graphic designer well versed in photoshop, indesign and russian and I can help you with that!\n",
      "\n",
      "My name is Karim and I am looking forward to fostering a long-term relationship with you or become your go-to service provider for any related future inquiries.\n",
      "In this instance and rather than providing you with a quote as I assume you are on a budget, I would prefer to ask you how much are you expecting to pay for this service? if it is reasonable, I would gladly offer you my services. \n",
      "\n",
      "Feel free to have a look at my samples:\n",
      "    \n",
      "I accept payments through Paypal as it is the only platform that provides a buyer’s protection for you. \n",
      "I could send you an invoice for the service provided if needed. However, if you have other preferences, feel free to let me know.\n",
      "    \n",
      "\n",
      "\n",
      "If interested or have any further questions, feel free to reach me at your earliest convenience and by your preferred mean of communication.\n",
      "Sincerely, \n",
      "Karim\n",
      "karimafilal@hotmail.com\n",
      "(408) 393-4260 \n",
      "\n"
     ]
    }
   ],
   "source": [
    "pay_method = utils.find_matching_key_word(job_post,payments)\n",
    "contract_type = utils.find_matching_key_word(job_post,contract)\n",
    "\n",
    "\n",
    "formatted_first = \"\"\n",
    "formatted_second_parent = \"\"\n",
    "formatted_pay = \"\"\n",
    "formatted_tutoring = \"\"\n",
    "formatted_pay_method = \"\"\n",
    "formatted_contract_type = \"\"\n",
    "formatted_sample = \"\"\n",
    "\n",
    "is_sample = False\n",
    "is_tutor = any(tutoring_result)\n",
    "is_payment_method = any(pay_method)\n",
    "is_contract_type = any(contract_type)\n",
    "\n",
    "if any(first_result):\n",
    "\n",
    "    if \"someone\" not in first_result:\n",
    "        if len(first_result) == 1: formatted_first = first_result[0]\n",
    "        elif len(first_result) == 2: formatted_first = f\"{first_result[0]} and {first_result[1]}\"\n",
    "        elif len(first_result) == 3: formatted_first = f\"{first_result[0]}, {first_result[1]} and {first_result[2]}\"\n",
    "        else: formatted_first = \"someone\"\n",
    "    else: formatted_first = \"someone\"\n",
    "\n",
    "\n",
    "    if any(parent_second_result):\n",
    "        if len(parent_second_result) == 1: formatted_second_parent = parent_second_result[0]\n",
    "        elif len(parent_second_result) == 2: formatted_second_parent = f\"{parent_second_result[0]} and {parent_second_result[1]}\"\n",
    "        elif len(parent_second_result) == 3: formatted_second_parent = f\"{parent_second_result[0]}, {parent_second_result[1]} and {parent_second_result[2]}\"\n",
    "        else: formatted_second_parent = \"many things\"\n",
    "        is_sample = any(['karim' in parent_second[i].values for i in parent_second_result])\n",
    "\n",
    "\n",
    "else:\n",
    "    print(f\"Breaking because no first parent found\")\n",
    "    #continue\n",
    "\n",
    "\n",
    "\n",
    "formatted_second_parent_final =f\"well versed in {formatted_second_parent} and I can help you with that!\" if formatted_second_parent != \"\" else \"\"\n",
    "cond_1 = f\"I see that you are looking for {formatted_first} {formatted_second_parent_final}\"\n",
    "\n",
    "if pay_amount > 0:\n",
    "    formatted_pay = f\"\"\" Hence, I am willing to offer you this service for {pay_amount*0.8} instead of {pay_amount}\"\"\"\n",
    "else:\n",
    "    formatted_pay = \"\"\"In this instance and rather than providing you with a quote as I assume you are on a budget, I would prefer to ask you how much are you expecting to pay for this service? if it is reasonable, I would gladly offer you my services. \"\"\"\n",
    "\n",
    "if is_tutor:\n",
    "    formatted_tutoring = \"\"\"As I understood, you are seeking someone to teach you how to do things instead of providing you with the services. What I generally do for my clients would be that I would ask you to provide me details regarding a specific project you have in mind, and I would self-record myself doing it. This will enable you to skip the learning of basics and ancillary things and learn exactly what you want. You will have the video showing every movements and actions being made from scratch to the result. I will also provide you, if needed, the resulting work.\"\"\"\n",
    "\n",
    "if is_sample:\n",
    "    formatted_sample = \"\"\"Feel free to have a look at my samples:\n",
    "    \"\"\"\n",
    "\n",
    "if is_payment_method:\n",
    "    formatted_pay_method = f\"\"\"I am fine to accept payments with {pay_method[0]} as you have mentioned it within your posting.\n",
    "    \"\"\"\n",
    "else:\n",
    "    formatted_pay_method = f\"\"\"I accept payments through Paypal as it is the only platform that provides a buyer’s protection for you. \n",
    "I could send you an invoice for the service provided if needed. However, if you have other preferences, feel free to let me know.\n",
    "    \"\"\"\n",
    "\n",
    "if is_contract_type:\n",
    "    formatted_contract_type = f\"\"\"I am also willing, per your request to provide you/sign a {contract_type[0]} at your request.\n",
    "    \"\"\"\n",
    "\n",
    "generated_email = f\"\"\"\n",
    "{cl_email}\n",
    "Greetings,\n",
    "{cond_1}\n",
    "\n",
    "My name is Karim and I am looking forward to fostering a long-term relationship with you or become your go-to service provider for any related future inquiries.\n",
    "{formatted_pay}\n",
    "{formatted_tutoring}\n",
    "{formatted_sample}\n",
    "{formatted_pay_method}\n",
    "{formatted_contract_type}\n",
    "\n",
    "If interested or have any further questions, feel free to reach me at your earliest convenience and by your preferred mean of communication.\n",
    "Sincerely, \n",
    "Karim\n",
    "karimafilal@hotmail.com\n",
    "(408) 393-4260 \"\"\"\n",
    "\n",
    "#send_mail(subject, generated_email, \"firstenaction@gmail.com\", \"CastirlaCorte56\", \"karimafilal@hotmail.com\")\n",
    "print(f\"\"\"Test\n",
    "Title: {title}\n",
    "body: {body}\n",
    "\n",
    "\n",
    "generated email: {generated_email}\n",
    "\"\"\")\n",
    "#print(generated_email)\n",
    "\n",
    "#all_info = run_api.append_non_exported(\"sent.csv\", all_info).dropna().drop_duplicates()\n",
    "#all_info.to_csv(\"sent.csv\", index=False)"
   ]
  },
  {
   "cell_type": "code",
   "execution_count": 25,
   "metadata": {},
   "outputs": [
    {
     "data": {
      "text/plain": [
       "array(['photoshop', 'indesign', 'russian'], dtype=object)"
      ]
     },
     "execution_count": 25,
     "metadata": {},
     "output_type": "execute_result"
    }
   ],
   "source": [
    "parent_second_result"
   ]
  },
  {
   "cell_type": "code",
   "execution_count": 26,
   "metadata": {},
   "outputs": [],
   "source": [
    "import os"
   ]
  },
  {
   "cell_type": "code",
   "execution_count": 62,
   "metadata": {},
   "outputs": [
    {
     "name": "stdout",
     "output_type": "stream",
     "text": [
      "photoshop: (before/after): https://1drv.ms/u/s!Ap7N4wuRlyn-gwMvwfXMiXdzXKP9?e=IMFbyB\n",
      "excel: https://1drv.ms/u/s!Ap7N4wuRlyn-iCd5hvUCahRUkhqu?e=GT9wf1\n",
      "logo: https://1drv.ms/u/s!Ap7N4wuRlyn-gn0pEXiz4UqzuUML?e=GTgiJN\n",
      "\n"
     ]
    }
   ],
   "source": [
    "samples=[]\n",
    "for file_name in paren:\n",
    "    path = f\"samples/{file_name}.txt\"\n",
    "    if os.path.isfile(path):\n",
    "        with open(path,\"r\") as file:\n",
    "            sample = file.read().strip()\n",
    "        samples.append({file_name: sample})\n",
    "        \n",
    "        \n",
    "string = \"\"\"\"\"\"\n",
    "for i in samples:\n",
    "    string = string + (str(i)) + \"\\n\"\n",
    "print(string.replace(\"{\",\"\").replace(\"}\",\"\").replace(\"'\",\"\"))"
   ]
  },
  {
   "cell_type": "code",
   "execution_count": 23,
   "metadata": {},
   "outputs": [
    {
     "data": {
      "text/html": [
       "<div>\n",
       "<style scoped>\n",
       "    .dataframe tbody tr th:only-of-type {\n",
       "        vertical-align: middle;\n",
       "    }\n",
       "\n",
       "    .dataframe tbody tr th {\n",
       "        vertical-align: top;\n",
       "    }\n",
       "\n",
       "    .dataframe thead th {\n",
       "        text-align: right;\n",
       "    }\n",
       "</style>\n",
       "<table border=\"1\" class=\"dataframe\">\n",
       "  <thead>\n",
       "    <tr style=\"text-align: right;\">\n",
       "      <th></th>\n",
       "      <th>title</th>\n",
       "      <th>body</th>\n",
       "      <th>compensation</th>\n",
       "      <th>pay_amount</th>\n",
       "      <th>amount</th>\n",
       "      <th>email</th>\n",
       "    </tr>\n",
       "  </thead>\n",
       "  <tbody>\n",
       "  </tbody>\n",
       "</table>\n",
       "</div>"
      ],
      "text/plain": [
       "Empty DataFrame\n",
       "Columns: [title, body, compensation, pay_amount, amount, email]\n",
       "Index: []"
      ]
     },
     "execution_count": 23,
     "metadata": {},
     "output_type": "execute_result"
    }
   ],
   "source": [
    "all_info = utils.compare_against_sent(all_info, pd.read_csv(\"sent.csv\"), [\"title\", \"body\", \"compensation\"])\n",
    "all_info"
   ]
  },
  {
   "cell_type": "code",
   "execution_count": null,
   "metadata": {},
   "outputs": [],
   "source": []
  }
 ],
 "metadata": {
  "kernelspec": {
   "display_name": "Python 3",
   "language": "python",
   "name": "python3"
  },
  "language_info": {
   "codemirror_mode": {
    "name": "ipython",
    "version": 3
   },
   "file_extension": ".py",
   "mimetype": "text/x-python",
   "name": "python",
   "nbconvert_exporter": "python",
   "pygments_lexer": "ipython3",
   "version": "3.6.9"
  }
 },
 "nbformat": 4,
 "nbformat_minor": 4
}
