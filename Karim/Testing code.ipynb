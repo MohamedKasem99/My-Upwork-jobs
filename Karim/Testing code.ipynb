{
 "cells": [
  {
   "cell_type": "code",
   "execution_count": 1,
   "metadata": {},
   "outputs": [
    {
     "name": "stdout",
     "output_type": "stream",
     "text": [
      "Obtained my token successfully!\n",
      "{'data': 1, 'error': 'success', 'error_Description': 'Task is started successfully!'}\n",
      "{'data': 1, 'error': 'success', 'error_Description': 'Task is started successfully!'}\n",
      "{'data': 1, 'error': 'success', 'error_Description': 'Task is started successfully!'}\n",
      "{'data': 1, 'error': 'success', 'error_Description': 'Task is started successfully!'}\n"
     ]
    }
   ],
   "source": [
    "import run_api"
   ]
  },
  {
   "cell_type": "code",
   "execution_count": 2,
   "metadata": {},
   "outputs": [
    {
     "name": "stderr",
     "output_type": "stream",
     "text": [
      "[nltk_data] Downloading package stopwords to /home/kasem/nltk_data...\n",
      "[nltk_data]   Package stopwords is already up-to-date!\n",
      "[nltk_data] Downloading package punkt to /home/kasem/nltk_data...\n",
      "[nltk_data]   Package punkt is already up-to-date!\n"
     ]
    }
   ],
   "source": [
    "import utils\n",
    "from ner import NER\n",
    "\n",
    "csv = utils.csv\n",
    "pd = utils.pd\n",
    "np = utils.np\n",
    "nltk = utils.nltk\n",
    "itertools = utils.itertools\n",
    "re = utils.re"
   ]
  },
  {
   "cell_type": "code",
   "execution_count": 3,
   "metadata": {},
   "outputs": [],
   "source": [
    "xls = pd.ExcelFile('strings stems.xlsx')\n",
    "\n",
    "first = pd.read_excel(xls, 'first').dropna(axis=1, how='all').dropna(axis=0, how='all')\n",
    "parent_second = pd.read_excel(xls, 'parent second').dropna(axis=1, how='all').dropna(axis=0, how='all')\n",
    "bad_keywords= pd.read_excel(xls, 'bad keywords').dropna(axis=1, how='all').dropna(axis=0, how='all')\n",
    "\n",
    "tutoring = pd.read_excel(xls, 'Tutoring').dropna(axis=1, how='all').dropna(axis=0, how='all')\n",
    "payments = pd.read_excel(xls, 'payments').dropna(axis=1, how='all').dropna(axis=0, how='all')\n",
    "contract = pd.read_excel(xls, 'contract').dropna(axis=1, how='all').dropna(axis=0, how='all')\n",
    "\n",
    "firstextract_exported = pd.read_csv(\"firstextract.csv\")\n",
    "secondextract_exported = pd.read_csv(\"secondextract.csv\")\n",
    "\n",
    "utils.pre_process_df_keywords(first)\n",
    "utils.pre_process_df_keywords(parent_second)\n",
    "utils.pre_process_df_keywords(bad_keywords)\n"
   ]
  },
  {
   "cell_type": "code",
   "execution_count": 4,
   "metadata": {},
   "outputs": [],
   "source": [
    "extractor = NER()"
   ]
  },
  {
   "cell_type": "code",
   "execution_count": 8,
   "metadata": {},
   "outputs": [],
   "source": [
    "Nfiles_df_list, first_extract, second_extract, third_extract = run_api.Nfiles_df_list, run_api.first_extract_df, run_api.second_extract_df, run_api.third_extract_df\n",
    "first_extract.rename(inplace=True, columns={\"field1_Text_Text\": \"title\", \"field1_Link_Link\": \"link\"})\n",
    "first_extract = run_api.cleanup_df(first_extract,\"title\")\n",
    "second_extract = run_api.cleanup_df(second_extract,\"field1\")\n",
    "third_extract = run_api.cleanup_df(third_extract,\"email\")\n",
    "\n",
    "extracted_pay = utils.extract_pay_info(second_extract,extractor)"
   ]
  },
  {
   "cell_type": "code",
   "execution_count": 18,
   "metadata": {},
   "outputs": [
    {
     "data": {
      "text/html": [
       "<div>\n",
       "<style scoped>\n",
       "    .dataframe tbody tr th:only-of-type {\n",
       "        vertical-align: middle;\n",
       "    }\n",
       "\n",
       "    .dataframe tbody tr th {\n",
       "        vertical-align: top;\n",
       "    }\n",
       "\n",
       "    .dataframe thead th {\n",
       "        text-align: right;\n",
       "    }\n",
       "</style>\n",
       "<table border=\"1\" class=\"dataframe\">\n",
       "  <thead>\n",
       "    <tr style=\"text-align: right;\">\n",
       "      <th></th>\n",
       "      <th>title</th>\n",
       "      <th>body</th>\n",
       "      <th>compensation</th>\n",
       "      <th>pay_amount</th>\n",
       "      <th>amount</th>\n",
       "      <th>email</th>\n",
       "    </tr>\n",
       "  </thead>\n",
       "  <tbody>\n",
       "    <tr>\n",
       "      <th>0</th>\n",
       "      <td>Seeking MILF Pick-up Artists</td>\n",
       "      <td>QR Code Link to This Post\\n            \\n     ...</td>\n",
       "      <td>no pay</td>\n",
       "      <td>-1</td>\n",
       "      <td>NA</td>\n",
       "      <td>8b931e0f988a32cdad01923aa103cd78@gigs.craigsli...</td>\n",
       "    </tr>\n",
       "    <tr>\n",
       "      <th>1</th>\n",
       "      <td>Sr. Business Analyst</td>\n",
       "      <td>QR Code Link to This Post\\n            \\n     ...</td>\n",
       "      <td>compensation: Competative Hourly Rate</td>\n",
       "      <td>-1</td>\n",
       "      <td>hourly</td>\n",
       "      <td>948f2dc226e53ae7963cb1681fc5fd15@gigs.craigsli...</td>\n",
       "    </tr>\n",
       "    <tr>\n",
       "      <th>2</th>\n",
       "      <td>Clothing fitting model and feedback needed</td>\n",
       "      <td>QR Code Link to This Post\\n            \\n     ...</td>\n",
       "      <td>compensation: TBD</td>\n",
       "      <td>-1</td>\n",
       "      <td>NA</td>\n",
       "      <td>ce31860047f33c4183513bab9d08da22@gigs.craigsli...</td>\n",
       "    </tr>\n",
       "    <tr>\n",
       "      <th>3</th>\n",
       "      <td>CAD &amp; Graphic Rendering and layout</td>\n",
       "      <td>QR Code Link to This Post\\n            \\n     ...</td>\n",
       "      <td>compensation: Starting at $20.00 per hour base...</td>\n",
       "      <td>20</td>\n",
       "      <td>hour</td>\n",
       "      <td>37a5a1e9d67f3bb78038e98b0b6dbc09@gigs.craigsli...</td>\n",
       "    </tr>\n",
       "    <tr>\n",
       "      <th>4</th>\n",
       "      <td>Public Speaking / Retail Presenter W2 $700-120...</td>\n",
       "      <td>QR Code Link to This Post\\n            \\n     ...</td>\n",
       "      <td>compensation: W2 Guaranteed weekly draw/commis...</td>\n",
       "      <td>-1</td>\n",
       "      <td>commissions</td>\n",
       "      <td>7d176b37ffa4305984556698216dd6e5@gigs.craigsli...</td>\n",
       "    </tr>\n",
       "    <tr>\n",
       "      <th>...</th>\n",
       "      <td>...</td>\n",
       "      <td>...</td>\n",
       "      <td>...</td>\n",
       "      <td>...</td>\n",
       "      <td>...</td>\n",
       "      <td>...</td>\n",
       "    </tr>\n",
       "    <tr>\n",
       "      <th>183</th>\n",
       "      <td>Models needed for Product Photoshoot</td>\n",
       "      <td>QR Code Link to This Post\\n            \\n     ...</td>\n",
       "      <td>compensation: $50 for 2 hours</td>\n",
       "      <td>50</td>\n",
       "      <td>hour</td>\n",
       "      <td>c2514bfb979e33acb87857ce9e7aaacf@gigs.craigsli...</td>\n",
       "    </tr>\n",
       "    <tr>\n",
       "      <th>184</th>\n",
       "      <td>Haircut Model Casting</td>\n",
       "      <td>QR Code Link to This Post\\n            \\n     ...</td>\n",
       "      <td>compensation: $100</td>\n",
       "      <td>100</td>\n",
       "      <td>NA</td>\n",
       "      <td>2d6acdfe1aa0314bbbd4e23765a4b382@gigs.craigsli...</td>\n",
       "    </tr>\n",
       "    <tr>\n",
       "      <th>185</th>\n",
       "      <td>sound mixer/boom operator with equipment</td>\n",
       "      <td>QR Code Link to This Post\\n            \\n     ...</td>\n",
       "      <td>compensation: $100/day</td>\n",
       "      <td>100</td>\n",
       "      <td>day</td>\n",
       "      <td>4208321e431b3a5f87df33ed02b65f86@gigs.craigsli...</td>\n",
       "    </tr>\n",
       "    <tr>\n",
       "      <th>186</th>\n",
       "      <td>Looking For Festival Models</td>\n",
       "      <td>QR Code Link to This Post\\n            \\n     ...</td>\n",
       "      <td>compensation: $15-$50+/hr (contract)</td>\n",
       "      <td>15</td>\n",
       "      <td>hr</td>\n",
       "      <td>1ed3f5fd1d86383a91036a30d3ac002e@gigs.craigsli...</td>\n",
       "    </tr>\n",
       "    <tr>\n",
       "      <th>187</th>\n",
       "      <td>Female models start today!!</td>\n",
       "      <td>QR Code Link to This Post\\n            \\n     ...</td>\n",
       "      <td>compensation: $1300 per week or more</td>\n",
       "      <td>1300</td>\n",
       "      <td>week or more</td>\n",
       "      <td>f037955ff66530ccad4aeb05e159dcb3@gigs.craigsli...</td>\n",
       "    </tr>\n",
       "  </tbody>\n",
       "</table>\n",
       "<p>181 rows × 6 columns</p>\n",
       "</div>"
      ],
      "text/plain": [
       "                                                 title  \\\n",
       "0                         Seeking MILF Pick-up Artists   \n",
       "1                                 Sr. Business Analyst   \n",
       "2           Clothing fitting model and feedback needed   \n",
       "3                   CAD & Graphic Rendering and layout   \n",
       "4    Public Speaking / Retail Presenter W2 $700-120...   \n",
       "..                                                 ...   \n",
       "183               Models needed for Product Photoshoot   \n",
       "184                              Haircut Model Casting   \n",
       "185           sound mixer/boom operator with equipment   \n",
       "186                        Looking For Festival Models   \n",
       "187                        Female models start today!!   \n",
       "\n",
       "                                                  body  \\\n",
       "0    QR Code Link to This Post\\n            \\n     ...   \n",
       "1    QR Code Link to This Post\\n            \\n     ...   \n",
       "2    QR Code Link to This Post\\n            \\n     ...   \n",
       "3    QR Code Link to This Post\\n            \\n     ...   \n",
       "4    QR Code Link to This Post\\n            \\n     ...   \n",
       "..                                                 ...   \n",
       "183  QR Code Link to This Post\\n            \\n     ...   \n",
       "184  QR Code Link to This Post\\n            \\n     ...   \n",
       "185  QR Code Link to This Post\\n            \\n     ...   \n",
       "186  QR Code Link to This Post\\n            \\n     ...   \n",
       "187  QR Code Link to This Post\\n            \\n     ...   \n",
       "\n",
       "                                          compensation pay_amount  \\\n",
       "0                                               no pay         -1   \n",
       "1                compensation: Competative Hourly Rate         -1   \n",
       "2                                    compensation: TBD         -1   \n",
       "3    compensation: Starting at $20.00 per hour base...         20   \n",
       "4    compensation: W2 Guaranteed weekly draw/commis...         -1   \n",
       "..                                                 ...        ...   \n",
       "183                      compensation: $50 for 2 hours         50   \n",
       "184                                 compensation: $100        100   \n",
       "185                             compensation: $100/day        100   \n",
       "186               compensation: $15-$50+/hr (contract)         15   \n",
       "187               compensation: $1300 per week or more       1300   \n",
       "\n",
       "            amount                                              email  \n",
       "0               NA  8b931e0f988a32cdad01923aa103cd78@gigs.craigsli...  \n",
       "1           hourly  948f2dc226e53ae7963cb1681fc5fd15@gigs.craigsli...  \n",
       "2               NA  ce31860047f33c4183513bab9d08da22@gigs.craigsli...  \n",
       "3             hour  37a5a1e9d67f3bb78038e98b0b6dbc09@gigs.craigsli...  \n",
       "4      commissions  7d176b37ffa4305984556698216dd6e5@gigs.craigsli...  \n",
       "..             ...                                                ...  \n",
       "183           hour  c2514bfb979e33acb87857ce9e7aaacf@gigs.craigsli...  \n",
       "184             NA  2d6acdfe1aa0314bbbd4e23765a4b382@gigs.craigsli...  \n",
       "185            day  4208321e431b3a5f87df33ed02b65f86@gigs.craigsli...  \n",
       "186             hr  1ed3f5fd1d86383a91036a30d3ac002e@gigs.craigsli...  \n",
       "187   week or more  f037955ff66530ccad4aeb05e159dcb3@gigs.craigsli...  \n",
       "\n",
       "[181 rows x 6 columns]"
      ]
     },
     "execution_count": 18,
     "metadata": {},
     "output_type": "execute_result"
    }
   ],
   "source": [
    "second_extract_pay_appended = second_extract.reset_index().merge(extracted_pay.reset_index(), on=\"index\",how=\"left\").drop([\"index\",\"field\",\"Res\"],axis=1)\n",
    "all_info = second_extract_pay_appended.merge(third_extract, on= \"field1\", how=\"left\").dropna().drop_duplicates(subset = \"email\")\n",
    "all_info.rename(columns={\"field1\": \"title\", \"field2\":\"body\", \"field3\": \"compensation\",\"email\": \"email\", \"Decesion\":\"pay_amount\"}, inplace=True)\n",
    "\n",
    "all_info.to_csv(\"sent.csv\", index= False)\n",
    "all_info"
   ]
  },
  {
   "cell_type": "code",
   "execution_count": null,
   "metadata": {},
   "outputs": [],
   "source": []
  },
  {
   "cell_type": "code",
   "execution_count": 16,
   "metadata": {},
   "outputs": [
    {
     "data": {
      "text/html": [
       "<div>\n",
       "<style scoped>\n",
       "    .dataframe tbody tr th:only-of-type {\n",
       "        vertical-align: middle;\n",
       "    }\n",
       "\n",
       "    .dataframe tbody tr th {\n",
       "        vertical-align: top;\n",
       "    }\n",
       "\n",
       "    .dataframe thead th {\n",
       "        text-align: right;\n",
       "    }\n",
       "</style>\n",
       "<table border=\"1\" class=\"dataframe\">\n",
       "  <thead>\n",
       "    <tr style=\"text-align: right;\">\n",
       "      <th></th>\n",
       "      <th>field1</th>\n",
       "      <th>field2</th>\n",
       "      <th>field3</th>\n",
       "    </tr>\n",
       "  </thead>\n",
       "  <tbody>\n",
       "    <tr>\n",
       "      <th>187</th>\n",
       "      <td>Female models start today!!</td>\n",
       "      <td>QR Code Link to This Post\\n            \\n     ...</td>\n",
       "      <td>compensation: $1300 per week or more</td>\n",
       "    </tr>\n",
       "  </tbody>\n",
       "</table>\n",
       "</div>"
      ],
      "text/plain": [
       "                          field1  \\\n",
       "187  Female models start today!!   \n",
       "\n",
       "                                                field2  \\\n",
       "187  QR Code Link to This Post\\n            \\n     ...   \n",
       "\n",
       "                                   field3  \n",
       "187  compensation: $1300 per week or more  "
      ]
     },
     "execution_count": 16,
     "metadata": {},
     "output_type": "execute_result"
    }
   ],
   "source": [
    "second_extract[second_extract[\"field1\"] == \"Female models start today!!\"]"
   ]
  },
  {
   "cell_type": "code",
   "execution_count": 281,
   "metadata": {},
   "outputs": [
    {
     "data": {
      "text/plain": [
       "'hi, hsadda'"
      ]
     },
     "execution_count": 281,
     "metadata": {},
     "output_type": "execute_result"
    }
   ],
   "source": []
  },
  {
   "cell_type": "code",
   "execution_count": null,
   "metadata": {},
   "outputs": [],
   "source": []
  }
 ],
 "metadata": {
  "kernelspec": {
   "display_name": "Python 3",
   "language": "python",
   "name": "python3"
  },
  "language_info": {
   "codemirror_mode": {
    "name": "ipython",
    "version": 3
   },
   "file_extension": ".py",
   "mimetype": "text/x-python",
   "name": "python",
   "nbconvert_exporter": "python",
   "pygments_lexer": "ipython3",
   "version": "3.6.9"
  }
 },
 "nbformat": 4,
 "nbformat_minor": 4
}
