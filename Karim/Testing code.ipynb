{
 "cells": [
  {
   "cell_type": "code",
   "execution_count": 1,
   "metadata": {},
   "outputs": [
    {
     "name": "stdout",
     "output_type": "stream",
     "text": [
      "Obtained my token successfully!\n",
      "{'data': 1, 'error': 'success', 'error_Description': 'Task is started successfully!'}\n",
      "{'data': 2, 'error': 'task_on_executing', 'error_Description': \"Task is running! You don't need to start again.\"}\n",
      "{'data': 1, 'error': 'success', 'error_Description': 'Task is started successfully!'}\n"
     ]
    }
   ],
   "source": [
    "import run_api"
   ]
  },
  {
   "cell_type": "code",
   "execution_count": 7,
   "metadata": {},
   "outputs": [],
   "source": [
    "import utils\n",
    "from ner import NER\n",
    "csv = utils.csv\n",
    "pd = utils.pd\n",
    "np = utils.np\n",
    "nltk = utils.nltk\n",
    "itertools = utils.itertools\n",
    "re = utils.re"
   ]
  },
  {
   "cell_type": "code",
   "execution_count": 8,
   "metadata": {},
   "outputs": [],
   "source": [
    "Nfiles_df_list, first_extract, second_extract = run_api.Nfiles_df_list, run_api.first_extract_df, run_api.second_extract_df"
   ]
  },
  {
   "cell_type": "code",
   "execution_count": 9,
   "metadata": {},
   "outputs": [
    {
     "name": "stdout",
     "output_type": "stream",
     "text": [
      "False\n"
     ]
    },
    {
     "data": {
      "text/html": [
       "<div>\n",
       "<style scoped>\n",
       "    .dataframe tbody tr th:only-of-type {\n",
       "        vertical-align: middle;\n",
       "    }\n",
       "\n",
       "    .dataframe tbody tr th {\n",
       "        vertical-align: top;\n",
       "    }\n",
       "\n",
       "    .dataframe thead th {\n",
       "        text-align: right;\n",
       "    }\n",
       "</style>\n",
       "<table border=\"1\" class=\"dataframe\">\n",
       "  <thead>\n",
       "    <tr style=\"text-align: right;\">\n",
       "      <th></th>\n",
       "      <th>name</th>\n",
       "    </tr>\n",
       "  </thead>\n",
       "  <tbody>\n",
       "    <tr>\n",
       "      <th>0</th>\n",
       "      <td>contract</td>\n",
       "    </tr>\n",
       "    <tr>\n",
       "      <th>1</th>\n",
       "      <td>NDA</td>\n",
       "    </tr>\n",
       "  </tbody>\n",
       "</table>\n",
       "</div>"
      ],
      "text/plain": [
       "       name\n",
       "0  contract\n",
       "1       NDA"
      ]
     },
     "execution_count": 9,
     "metadata": {},
     "output_type": "execute_result"
    }
   ],
   "source": [
    "xls = pd.ExcelFile('strings stems.xlsx')\n",
    "\n",
    "first = pd.read_excel(xls, 'first').dropna(axis=1, how='all').dropna(axis=0, how='all')\n",
    "parent_second = pd.read_excel(xls, 'parent second').dropna(axis=1, how='all').dropna(axis=0, how='all')\n",
    "bad_keywords= pd.read_excel(xls, 'bad keywords').dropna(axis=1, how='all').dropna(axis=0, how='all')\n",
    "\n",
    "tutoring = pd.read_excel(xls, 'Tutoring').dropna(axis=1, how='all').dropna(axis=0, how='all')\n",
    "payments = pd.read_excel(xls, 'payments').dropna(axis=1, how='all').dropna(axis=0, how='all')\n",
    "contract = pd.read_excel(xls, 'contract').dropna(axis=1, how='all').dropna(axis=0, how='all')\n",
    "\n",
    "utils.pre_process_df_keywords(first)\n",
    "utils.pre_process_df_keywords(parent_second)\n",
    "utils.pre_process_df_keywords(bad_keywords)\n",
    "\n",
    "print('x' in parent_second[\"sound effects\"].values)\n",
    "contract"
   ]
  },
  {
   "cell_type": "code",
   "execution_count": 14,
   "metadata": {},
   "outputs": [
    {
     "name": "stdout",
     "output_type": "stream",
     "text": [
      "[]\n"
     ]
    },
    {
     "data": {
      "text/plain": [
       "((array(['photoshop', 'video editing'], dtype=object), 'video editing'),\n",
       " (array(['a graphic designer', 'someone', 'a video editor'], dtype=object),\n",
       "  'a video editor'))"
      ]
     },
     "execution_count": 14,
     "metadata": {},
     "output_type": "execute_result"
    }
   ],
   "source": [
    "raw_message = \"\"\"My name is Jack, the designer of Bellorita handbags (bellorita.com). We are working on a 90-second video ad on facebook. We need a video editor to help us edit the video with text, image, and footage overlay to go with the script and spokewoman.\n",
    "\n",
    "Right now the script (225 words) is ready, but the spokewoman video is not yet, and we need your suggestion on how we need her to performe to smooth your video editing.\n",
    "\n",
    "If you are interested, please propose with your price.\n",
    "\n",
    "Please note that this is an easy project, and we want the lowest rate possible. Thank you.\n",
    "\n",
    "I will pay through cash app and I need to sign an NDA\n",
    "\n",
    "Sincerely\n",
    "Jack\n",
    "\"\"\".lower()\n",
    "message = utils.pre_process(raw_message)\n",
    "\n",
    "print(\"Breaking_2\") if utils.step_1(raw_message, utils.get_two_word(message), bad_keywords) else False\n",
    "print(utils.step_1(raw_message, utils.get_two_word(message), bad_keywords))\n",
    "\n",
    "\n",
    "utils.find_workers(raw_message, message, parent_second), utils.find_workers(raw_message, message, first)"
   ]
  },
  {
   "cell_type": "code",
   "execution_count": 15,
   "metadata": {},
   "outputs": [],
   "source": [
    "extractor = NER()\n",
    "def extract_pay_info(second_extract, extractor):\n",
    "    extracted_pay = pd.DataFrame({\"field\": second_extract['field3'].values, \n",
    "              \"Res\": list(map(extractor.extract_entities_dict,(map(utils.append_sapces,second_extract['field3'].values)))),\n",
    "              \"Decesion\": [\" \"] * len(second_extract['field3'].values)\n",
    "             })\n",
    "    for indx, item in enumerate(extracted_pay[\"Res\"]):\n",
    "        if len(item) != '' and (\"money\" in item.keys() or 'cardinal' in item.keys()):\n",
    "            temp = re.findall(r'\\d+', str(item.values()).replace(',',\"\"))\n",
    "            try:\n",
    "                extracted_pay.iloc[indx]['Decesion'] = min(list(map(int, temp)))\n",
    "            except:\n",
    "                extracted_pay.iloc[indx]['Decesion'] = -1\n",
    "        else:\n",
    "            extracted_pay.iloc[indx]['Decesion'] = -1\n",
    "\n",
    "    return extracted_pay"
   ]
  },
  {
   "cell_type": "code",
   "execution_count": 18,
   "metadata": {},
   "outputs": [
    {
     "data": {
      "text/html": [
       "<div>\n",
       "<style scoped>\n",
       "    .dataframe tbody tr th:only-of-type {\n",
       "        vertical-align: middle;\n",
       "    }\n",
       "\n",
       "    .dataframe tbody tr th {\n",
       "        vertical-align: top;\n",
       "    }\n",
       "\n",
       "    .dataframe thead th {\n",
       "        text-align: right;\n",
       "    }\n",
       "</style>\n",
       "<table border=\"1\" class=\"dataframe\">\n",
       "  <thead>\n",
       "    <tr style=\"text-align: right;\">\n",
       "      <th></th>\n",
       "      <th>index</th>\n",
       "      <th>field1</th>\n",
       "      <th>field2</th>\n",
       "      <th>field3</th>\n",
       "    </tr>\n",
       "  </thead>\n",
       "  <tbody>\n",
       "    <tr>\n",
       "      <th>0</th>\n",
       "      <td>0</td>\n",
       "      <td>Boudoir Model Needed</td>\n",
       "      <td>QR Code Link to This Post\\n            \\n     ...</td>\n",
       "      <td>compensation: 50/hr or $200</td>\n",
       "    </tr>\n",
       "    <tr>\n",
       "      <th>1</th>\n",
       "      <td>1</td>\n",
       "      <td>Paying $5 to test a finance app</td>\n",
       "      <td>QR Code Link to This Post\\n            \\n     ...</td>\n",
       "      <td>compensation: $5</td>\n",
       "    </tr>\n",
       "    <tr>\n",
       "      <th>2</th>\n",
       "      <td>2</td>\n",
       "      <td>Model wanted for womenswear photoshoot/lookbook</td>\n",
       "      <td>QR Code Link to This Post\\n            \\n     ...</td>\n",
       "      <td>compensation: $40/hr, for 4-5 hrs</td>\n",
       "    </tr>\n",
       "    <tr>\n",
       "      <th>3</th>\n",
       "      <td>3</td>\n",
       "      <td>Model Needed 30-50 Female</td>\n",
       "      <td>QR Code Link to This Post\\n            \\n     ...</td>\n",
       "      <td>compensation: 250</td>\n",
       "    </tr>\n",
       "    <tr>\n",
       "      <th>4</th>\n",
       "      <td>4</td>\n",
       "      <td>Seeking Actresses and Models 18+</td>\n",
       "      <td>QR Code Link to This Post\\n            \\n     ...</td>\n",
       "      <td>compensation: up to 500 dollars a day</td>\n",
       "    </tr>\n",
       "    <tr>\n",
       "      <th>...</th>\n",
       "      <td>...</td>\n",
       "      <td>...</td>\n",
       "      <td>...</td>\n",
       "      <td>...</td>\n",
       "    </tr>\n",
       "    <tr>\n",
       "      <th>214</th>\n",
       "      <td>214</td>\n",
       "      <td>$150: Looking for Female Model to Visit N*de B...</td>\n",
       "      <td>QR Code Link to This Post\\n            \\n     ...</td>\n",
       "      <td>compensation: $150 cash</td>\n",
       "    </tr>\n",
       "    <tr>\n",
       "      <th>215</th>\n",
       "      <td>215</td>\n",
       "      <td>Need help editing a short video</td>\n",
       "      <td>QR Code Link to This Post\\n            \\n     ...</td>\n",
       "      <td>compensation: Bid</td>\n",
       "    </tr>\n",
       "    <tr>\n",
       "      <th>216</th>\n",
       "      <td>216</td>\n",
       "      <td>Festival Life- Van-Life Adventure Models</td>\n",
       "      <td>QR Code Link to This Post\\n            \\n     ...</td>\n",
       "      <td>compensation: $$ Weekly and Split of all Chann...</td>\n",
       "    </tr>\n",
       "    <tr>\n",
       "      <th>217</th>\n",
       "      <td>217</td>\n",
       "      <td>Celebrity Music Video</td>\n",
       "      <td>QR Code Link to This Post\\n            \\n     ...</td>\n",
       "      <td>compensation: Exposure</td>\n",
       "    </tr>\n",
       "    <tr>\n",
       "      <th>218</th>\n",
       "      <td>218</td>\n",
       "      <td>Excel Guru Needed for Company Metric Sheet</td>\n",
       "      <td>QR Code Link to This Post\\n            \\n     ...</td>\n",
       "      <td>compensation: $200/1 hour</td>\n",
       "    </tr>\n",
       "  </tbody>\n",
       "</table>\n",
       "<p>219 rows × 4 columns</p>\n",
       "</div>"
      ],
      "text/plain": [
       "     index                                             field1  \\\n",
       "0        0                               Boudoir Model Needed   \n",
       "1        1                    Paying $5 to test a finance app   \n",
       "2        2    Model wanted for womenswear photoshoot/lookbook   \n",
       "3        3                          Model Needed 30-50 Female   \n",
       "4        4                   Seeking Actresses and Models 18+   \n",
       "..     ...                                                ...   \n",
       "214    214  $150: Looking for Female Model to Visit N*de B...   \n",
       "215    215                    Need help editing a short video   \n",
       "216    216           Festival Life- Van-Life Adventure Models   \n",
       "217    217                              Celebrity Music Video   \n",
       "218    218         Excel Guru Needed for Company Metric Sheet   \n",
       "\n",
       "                                                field2  \\\n",
       "0    QR Code Link to This Post\\n            \\n     ...   \n",
       "1    QR Code Link to This Post\\n            \\n     ...   \n",
       "2    QR Code Link to This Post\\n            \\n     ...   \n",
       "3    QR Code Link to This Post\\n            \\n     ...   \n",
       "4    QR Code Link to This Post\\n            \\n     ...   \n",
       "..                                                 ...   \n",
       "214  QR Code Link to This Post\\n            \\n     ...   \n",
       "215  QR Code Link to This Post\\n            \\n     ...   \n",
       "216  QR Code Link to This Post\\n            \\n     ...   \n",
       "217  QR Code Link to This Post\\n            \\n     ...   \n",
       "218  QR Code Link to This Post\\n            \\n     ...   \n",
       "\n",
       "                                                field3  \n",
       "0                          compensation: 50/hr or $200  \n",
       "1                                     compensation: $5  \n",
       "2                    compensation: $40/hr, for 4-5 hrs  \n",
       "3                                    compensation: 250  \n",
       "4                compensation: up to 500 dollars a day  \n",
       "..                                                 ...  \n",
       "214                            compensation: $150 cash  \n",
       "215                                  compensation: Bid  \n",
       "216  compensation: $$ Weekly and Split of all Chann...  \n",
       "217                             compensation: Exposure  \n",
       "218                          compensation: $200/1 hour  \n",
       "\n",
       "[219 rows x 4 columns]"
      ]
     },
     "execution_count": 18,
     "metadata": {},
     "output_type": "execute_result"
    }
   ],
   "source": [
    "extracted_pay = extract_pay_info(second_extract, extractor)"
   ]
  },
  {
   "cell_type": "code",
   "execution_count": 26,
   "metadata": {},
   "outputs": [],
   "source": [
    "second_extract_pay_appended = second_extract.reset_index().merge(extracted_pay.reset_index(), on=\"index\",how=\"right\").drop([\"index\",\"field\",\"Res\"],axis=1)\n",
    "second_extract_pay_appended.rename(columns={\"field1\": \"title\", \"field2\":\"body\", \"field3\": \"compensation\", \"Decesion\":\"pay_amount\"}, inplace=True)"
   ]
  },
  {
   "cell_type": "code",
   "execution_count": 33,
   "metadata": {},
   "outputs": [
    {
     "data": {
      "text/html": [
       "<div>\n",
       "<style scoped>\n",
       "    .dataframe tbody tr th:only-of-type {\n",
       "        vertical-align: middle;\n",
       "    }\n",
       "\n",
       "    .dataframe tbody tr th {\n",
       "        vertical-align: top;\n",
       "    }\n",
       "\n",
       "    .dataframe thead th {\n",
       "        text-align: right;\n",
       "    }\n",
       "</style>\n",
       "<table border=\"1\" class=\"dataframe\">\n",
       "  <thead>\n",
       "    <tr style=\"text-align: right;\">\n",
       "      <th></th>\n",
       "      <th>title</th>\n",
       "      <th>body</th>\n",
       "      <th>compensation</th>\n",
       "      <th>pay_amount</th>\n",
       "    </tr>\n",
       "  </thead>\n",
       "  <tbody>\n",
       "    <tr>\n",
       "      <th>0</th>\n",
       "      <td>Boudoir Model Needed</td>\n",
       "      <td>QR Code Link to This Post\\n            \\n     ...</td>\n",
       "      <td>compensation: 50/hr or $200</td>\n",
       "      <td>50</td>\n",
       "    </tr>\n",
       "    <tr>\n",
       "      <th>1</th>\n",
       "      <td>Paying $5 to test a finance app</td>\n",
       "      <td>QR Code Link to This Post\\n            \\n     ...</td>\n",
       "      <td>compensation: $5</td>\n",
       "      <td>5</td>\n",
       "    </tr>\n",
       "    <tr>\n",
       "      <th>2</th>\n",
       "      <td>Model wanted for womenswear photoshoot/lookbook</td>\n",
       "      <td>QR Code Link to This Post\\n            \\n     ...</td>\n",
       "      <td>compensation: $40/hr, for 4-5 hrs</td>\n",
       "      <td>4</td>\n",
       "    </tr>\n",
       "    <tr>\n",
       "      <th>3</th>\n",
       "      <td>Model Needed 30-50 Female</td>\n",
       "      <td>QR Code Link to This Post\\n            \\n     ...</td>\n",
       "      <td>compensation: 250</td>\n",
       "      <td>250</td>\n",
       "    </tr>\n",
       "    <tr>\n",
       "      <th>4</th>\n",
       "      <td>Seeking Actresses and Models 18+</td>\n",
       "      <td>QR Code Link to This Post\\n            \\n     ...</td>\n",
       "      <td>compensation: up to 500 dollars a day</td>\n",
       "      <td>500</td>\n",
       "    </tr>\n",
       "    <tr>\n",
       "      <th>...</th>\n",
       "      <td>...</td>\n",
       "      <td>...</td>\n",
       "      <td>...</td>\n",
       "      <td>...</td>\n",
       "    </tr>\n",
       "    <tr>\n",
       "      <th>214</th>\n",
       "      <td>$150: Looking for Female Model to Visit N*de B...</td>\n",
       "      <td>QR Code Link to This Post\\n            \\n     ...</td>\n",
       "      <td>compensation: $150 cash</td>\n",
       "      <td>150</td>\n",
       "    </tr>\n",
       "    <tr>\n",
       "      <th>215</th>\n",
       "      <td>Need help editing a short video</td>\n",
       "      <td>QR Code Link to This Post\\n            \\n     ...</td>\n",
       "      <td>compensation: Bid</td>\n",
       "      <td>-1</td>\n",
       "    </tr>\n",
       "    <tr>\n",
       "      <th>216</th>\n",
       "      <td>Festival Life- Van-Life Adventure Models</td>\n",
       "      <td>QR Code Link to This Post\\n            \\n     ...</td>\n",
       "      <td>compensation: $$ Weekly and Split of all Chann...</td>\n",
       "      <td>-1</td>\n",
       "    </tr>\n",
       "    <tr>\n",
       "      <th>217</th>\n",
       "      <td>Celebrity Music Video</td>\n",
       "      <td>QR Code Link to This Post\\n            \\n     ...</td>\n",
       "      <td>compensation: Exposure</td>\n",
       "      <td>-1</td>\n",
       "    </tr>\n",
       "    <tr>\n",
       "      <th>218</th>\n",
       "      <td>Excel Guru Needed for Company Metric Sheet</td>\n",
       "      <td>QR Code Link to This Post\\n            \\n     ...</td>\n",
       "      <td>compensation: $200/1 hour</td>\n",
       "      <td>1</td>\n",
       "    </tr>\n",
       "  </tbody>\n",
       "</table>\n",
       "<p>219 rows × 4 columns</p>\n",
       "</div>"
      ],
      "text/plain": [
       "                                                 title  \\\n",
       "0                                 Boudoir Model Needed   \n",
       "1                      Paying $5 to test a finance app   \n",
       "2      Model wanted for womenswear photoshoot/lookbook   \n",
       "3                            Model Needed 30-50 Female   \n",
       "4                     Seeking Actresses and Models 18+   \n",
       "..                                                 ...   \n",
       "214  $150: Looking for Female Model to Visit N*de B...   \n",
       "215                    Need help editing a short video   \n",
       "216           Festival Life- Van-Life Adventure Models   \n",
       "217                              Celebrity Music Video   \n",
       "218         Excel Guru Needed for Company Metric Sheet   \n",
       "\n",
       "                                                  body  \\\n",
       "0    QR Code Link to This Post\\n            \\n     ...   \n",
       "1    QR Code Link to This Post\\n            \\n     ...   \n",
       "2    QR Code Link to This Post\\n            \\n     ...   \n",
       "3    QR Code Link to This Post\\n            \\n     ...   \n",
       "4    QR Code Link to This Post\\n            \\n     ...   \n",
       "..                                                 ...   \n",
       "214  QR Code Link to This Post\\n            \\n     ...   \n",
       "215  QR Code Link to This Post\\n            \\n     ...   \n",
       "216  QR Code Link to This Post\\n            \\n     ...   \n",
       "217  QR Code Link to This Post\\n            \\n     ...   \n",
       "218  QR Code Link to This Post\\n            \\n     ...   \n",
       "\n",
       "                                          compensation pay_amount  \n",
       "0                          compensation: 50/hr or $200         50  \n",
       "1                                     compensation: $5          5  \n",
       "2                    compensation: $40/hr, for 4-5 hrs          4  \n",
       "3                                    compensation: 250        250  \n",
       "4                compensation: up to 500 dollars a day        500  \n",
       "..                                                 ...        ...  \n",
       "214                            compensation: $150 cash        150  \n",
       "215                                  compensation: Bid         -1  \n",
       "216  compensation: $$ Weekly and Split of all Chann...         -1  \n",
       "217                             compensation: Exposure         -1  \n",
       "218                          compensation: $200/1 hour          1  \n",
       "\n",
       "[219 rows x 4 columns]"
      ]
     },
     "execution_count": 33,
     "metadata": {},
     "output_type": "execute_result"
    }
   ],
   "source": [
    "second_extract_pay_appended"
   ]
  },
  {
   "cell_type": "code",
   "execution_count": 60,
   "metadata": {},
   "outputs": [],
   "source": [
    "first_extract.rename(inplace=True, columns={\"field1_Text_Text\": \"title\", \"field1_Link_Link\": \"link\"})"
   ]
  },
  {
   "cell_type": "code",
   "execution_count": 95,
   "metadata": {},
   "outputs": [
    {
     "name": "stdout",
     "output_type": "stream",
     "text": [
      "['https://orangecounty.craigslist.org/tlg/d/irvine-model-wanted-for-womenswear/7061288716.html'\n",
      " 'https://provo.craigslist.org/tlg/d/alpine-model-needed-female/7061291756.html'\n",
      " 'https://saltlakecity.craigslist.org/tlg/d/alpine-model-needed-female/7061657275.html']\n"
     ]
    }
   ],
   "source": [
    "print((second_extract_pay_appended.merge(first_extract, on= \"title\", how=\"left\" ).drop_duplicates().iloc[2:5][\"link\"].values))"
   ]
  },
  {
   "cell_type": "code",
   "execution_count": 2,
   "metadata": {},
   "outputs": [],
   "source": [
    "from fuzzywuzzy import fuzz"
   ]
  },
  {
   "cell_type": "code",
   "execution_count": 6,
   "metadata": {},
   "outputs": [
    {
     "data": {
      "text/plain": [
       "71"
      ]
     },
     "execution_count": 6,
     "metadata": {},
     "output_type": "execute_result"
    }
   ],
   "source": []
  },
  {
   "cell_type": "code",
   "execution_count": 10,
   "metadata": {},
   "outputs": [],
   "source": [
    "import pandas as pd"
   ]
  },
  {
   "cell_type": "code",
   "execution_count": 11,
   "metadata": {},
   "outputs": [],
   "source": [
    "def func(x = pd.DataFrame([])):\n",
    "    return x"
   ]
  },
  {
   "cell_type": "code",
   "execution_count": 14,
   "metadata": {},
   "outputs": [
    {
     "data": {
      "text/html": [
       "<div>\n",
       "<style scoped>\n",
       "    .dataframe tbody tr th:only-of-type {\n",
       "        vertical-align: middle;\n",
       "    }\n",
       "\n",
       "    .dataframe tbody tr th {\n",
       "        vertical-align: top;\n",
       "    }\n",
       "\n",
       "    .dataframe thead th {\n",
       "        text-align: right;\n",
       "    }\n",
       "</style>\n",
       "<table border=\"1\" class=\"dataframe\">\n",
       "  <thead>\n",
       "    <tr style=\"text-align: right;\">\n",
       "      <th></th>\n",
       "      <th>0</th>\n",
       "    </tr>\n",
       "  </thead>\n",
       "  <tbody>\n",
       "    <tr>\n",
       "      <th>0</th>\n",
       "      <td>1</td>\n",
       "    </tr>\n",
       "    <tr>\n",
       "      <th>1</th>\n",
       "      <td>2</td>\n",
       "    </tr>\n",
       "    <tr>\n",
       "      <th>2</th>\n",
       "      <td>3</td>\n",
       "    </tr>\n",
       "  </tbody>\n",
       "</table>\n",
       "</div>"
      ],
      "text/plain": [
       "   0\n",
       "0  1\n",
       "1  2\n",
       "2  3"
      ]
     },
     "execution_count": 14,
     "metadata": {},
     "output_type": "execute_result"
    }
   ],
   "source": []
  },
  {
   "cell_type": "code",
   "execution_count": null,
   "metadata": {},
   "outputs": [],
   "source": []
  }
 ],
 "metadata": {
  "kernelspec": {
   "display_name": "Python 3",
   "language": "python",
   "name": "python3"
  },
  "language_info": {
   "codemirror_mode": {
    "name": "ipython",
    "version": 3
   },
   "file_extension": ".py",
   "mimetype": "text/x-python",
   "name": "python",
   "nbconvert_exporter": "python",
   "pygments_lexer": "ipython3",
   "version": "3.6.9"
  }
 },
 "nbformat": 4,
 "nbformat_minor": 4
}
