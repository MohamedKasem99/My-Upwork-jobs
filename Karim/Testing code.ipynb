{
 "cells": [
  {
   "cell_type": "code",
   "execution_count": 1,
   "metadata": {
    "collapsed": true,
    "jupyter": {
     "outputs_hidden": true
    }
   },
   "outputs": [
    {
     "name": "stderr",
     "output_type": "stream",
     "text": [
      "[nltk_data] Downloading package stopwords to /home/kasem/nltk_data...\n",
      "[nltk_data]   Package stopwords is already up-to-date!\n",
      "[nltk_data] Downloading package punkt to /home/kasem/nltk_data...\n",
      "[nltk_data]   Package punkt is already up-to-date!\n"
     ]
    },
    {
     "data": {
      "text/plain": [
       "True"
      ]
     },
     "execution_count": 1,
     "metadata": {},
     "output_type": "execute_result"
    }
   ],
   "source": [
    "import csv \n",
    "import pandas as pd\n",
    "from fuzzywuzzy import process\n",
    "from fuzzywuzzy import fuzz\n",
    "import numpy as np\n",
    "import nltk\n",
    "import itertools\n",
    "from nltk.corpus import stopwords\n",
    "nltk.download(\"stopwords\")\n",
    "nltk.download('punkt')"
   ]
  },
  {
   "cell_type": "code",
   "execution_count": 2,
   "metadata": {},
   "outputs": [],
   "source": [
    "def pre_process_df_keywords(df):\n",
    "    for column in df.columns:\n",
    "        for indx, entry in enumerate(df[column].dropna(axis=0)):\n",
    "            if len(entry.split()) > 1 and entry[-1] != \" \":\n",
    "                df[column][indx] = entry + \" \"\n",
    "def get_two_word(message):\n",
    "    combined_2_words = []\n",
    "    for word1, word2 in zip(message,list( message[1:] + list((message[0])))):\n",
    "        combined_2_words.append(word1 + ' ' + word2)\n",
    "    return combined_2_words\n",
    "\n",
    "def pre_process(message):\n",
    "    stopWords = set(stopwords.words('english'))\n",
    "    pronouns = [\"we\", \"We\",\"WE\",\"I\",\"me\",\"Me\",\"ME\",\"THEY\",\"they\",\"They\",\"Them\",\"them\",\"THEM\",\"YOU\",\"You\",\"you\"]\n",
    "    result = []\n",
    "    for word in message.split():\n",
    "        if word not in stopWords and word not in pronouns:\n",
    "            result.append(word)\n",
    "    return (result)\n",
    "    \n",
    "def gen_len(iter):\n",
    "    return sum([1 for _ in iter])\n",
    "\n",
    "\n",
    "def isMatch_1_word(word1,word2,thresh=80): return (fuzz.ratio(word1, word2) > thresh)\n",
    "def isMatch_many_words(word1,message,thresh=90): return (fuzz.partial_ratio(word1, message) >= thresh)\n",
    "\n",
    "def column_summary(word1, df):\n",
    "    summary = np.zeros(len(df.columns))\n",
    "    for col_indx, worker in enumerate(df.columns):\n",
    "        for word2 in df[worker].dropna(axis=0):\n",
    "            if isMatch_1_word(word1,word2):\n",
    "                summary[col_indx]+=1\n",
    "    return summary\n",
    "\n",
    "\n",
    "def summarize_one_words(message, first):\n",
    "    mat = np.zeros((len(message),len(first.columns)))\n",
    "    for word_indx, word in enumerate(message):    \n",
    "        mat[word_indx]=(column_summary(word,first)) \n",
    "    return mat\n",
    "\n",
    "def summarize_two_words(message, df):\n",
    "    mat = np.zeros((len(message),len(df.columns)))\n",
    "    for col_indx, worker in enumerate(df.columns):\n",
    "        two_words = df[df[worker].apply(lambda x: len(str(x).split())>1)][worker]\n",
    "        for word in two_words.dropna(axis=0):\n",
    "            for word_indx, two_word in enumerate(get_two_word(message)):\n",
    "                if isMatch_many_words(word, two_word):\n",
    "                    mat[word_indx][col_indx]+=1\n",
    "    return mat\n",
    "\n",
    "def find_workers(raw_message, message, first):\n",
    "    mat = summarize_one_words(message, first) + summarize_two_words(message, first)\n",
    "    #print(mat,\"\\n\\n\")\n",
    "    for word_indx, row_word in enumerate(mat[:]):\n",
    "        if row_word.sum() == 0:\n",
    "            mat[word_indx] = np.zeros((len(first.columns))); continue\n",
    "            \n",
    "        if len(first.columns[row_word != 0]) > 1:\n",
    "            mat[word_indx] = np.zeros((len(first.columns)))\n",
    "    \n",
    "    summary = np.array(mat).sum(axis=0)\n",
    "    match_worker = first.columns[summary!=0]\n",
    "    summary_wo_zeros = summary[np.argwhere(summary).reshape(1,-1)]\n",
    "    \n",
    "    print(mat)\n",
    "    print(summary)\n",
    "    print(f\"\"\"He is looking for >>> {match_worker}\"\"\")\n",
    "\n",
    "    if summary_wo_zeros.max() != summary_wo_zeros.min():\n",
    "        print(f\"Highest match is: {first.columns[np.argmax(summary)]}\")\n",
    "    return match_worker"
   ]
  },
  {
   "cell_type": "code",
   "execution_count": 3,
   "metadata": {},
   "outputs": [],
   "source": [
    "xls = pd.ExcelFile('strings stems.xlsx')\n",
    "first = pd.read_excel(xls, 'first').dropna(axis=1, how='all').dropna(axis=0, how='all')\n",
    "parent_second = pd.read_excel(xls, 'parent second').dropna(axis=1, how='all').dropna(axis=0, how='all')\n",
    "bad_keywords= pd.read_excel(xls, 'bad keywords').dropna(axis=1, how='all').dropna(axis=0, how='all')\n",
    "at_least_another= pd.read_excel(xls, 'at least another').dropna(axis=1, how='all').dropna(axis=0, how='all')\n",
    "\n",
    "pre_process_df_keywords(first)\n",
    "pre_process_df_keywords(parent_second)\n",
    "pre_process_df_keywords(bad_keywords)"
   ]
  },
  {
   "cell_type": "code",
   "execution_count": 8,
   "metadata": {},
   "outputs": [
    {
     "name": "stdout",
     "output_type": "stream",
     "text": [
      "[]\n",
      "[[0. 0. 0. 0. 0. 0. 0. 0. 0. 0. 0. 0.]\n",
      " [0. 0. 0. 0. 0. 0. 0. 0. 0. 0. 0. 0.]\n",
      " [0. 0. 1. 0. 0. 0. 0. 0. 0. 0. 0. 0.]\n",
      " [1. 0. 0. 0. 0. 0. 0. 0. 0. 0. 0. 0.]\n",
      " [0. 0. 0. 0. 0. 0. 0. 0. 0. 0. 0. 0.]\n",
      " [0. 0. 0. 0. 0. 0. 0. 0. 0. 0. 0. 0.]\n",
      " [0. 0. 0. 0. 0. 0. 0. 0. 0. 0. 0. 1.]\n",
      " [0. 0. 0. 0. 0. 0. 0. 0. 0. 0. 0. 0.]\n",
      " [0. 0. 0. 0. 0. 0. 0. 0. 0. 0. 0. 0.]\n",
      " [1. 0. 0. 0. 0. 0. 0. 0. 0. 0. 0. 0.]]\n",
      "[2. 0. 1. 0. 0. 0. 0. 0. 0. 0. 0. 1.]\n",
      "He is looking for >>> Index(['a graphic designer', 'someone', 'a proofreader'], dtype='object')\n",
      "Highest match is: a graphic designer\n"
     ]
    }
   ],
   "source": [
    "raw_message = \"\"\"\n",
    "I need business card and photoshop for color correction proof reader to draw images\n",
    "\n",
    "\"\"\".lower()\n",
    "print(\"Breaking\") if step_1(raw_message, bad_keywords) else False\n",
    "print(step_1(raw_message, bad_keywords))\n",
    "\n",
    "message = pre_process(raw_message)\n",
    "find_workers(raw_message, message, first)\n",
    "pass"
   ]
  },
  {
   "cell_type": "code",
   "execution_count": null,
   "metadata": {},
   "outputs": [],
   "source": []
  }
 ],
 "metadata": {
  "kernelspec": {
   "display_name": "Python 3",
   "language": "python",
   "name": "python3"
  },
  "language_info": {
   "codemirror_mode": {
    "name": "ipython",
    "version": 3
   },
   "file_extension": ".py",
   "mimetype": "text/x-python",
   "name": "python",
   "nbconvert_exporter": "python",
   "pygments_lexer": "ipython3",
   "version": "3.6.9"
  }
 },
 "nbformat": 4,
 "nbformat_minor": 4
}
