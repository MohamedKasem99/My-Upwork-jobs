{
 "cells": [
  {
   "cell_type": "code",
   "execution_count": 87,
   "metadata": {
    "collapsed": true,
    "jupyter": {
     "outputs_hidden": true
    }
   },
   "outputs": [
    {
     "name": "stderr",
     "output_type": "stream",
     "text": [
      "[nltk_data] Downloading package stopwords to /home/kasem/nltk_data...\n",
      "[nltk_data]   Package stopwords is already up-to-date!\n",
      "[nltk_data] Downloading package punkt to /home/kasem/nltk_data...\n",
      "[nltk_data]   Package punkt is already up-to-date!\n"
     ]
    },
    {
     "data": {
      "text/plain": [
       "True"
      ]
     },
     "execution_count": 87,
     "metadata": {},
     "output_type": "execute_result"
    }
   ],
   "source": [
    "import csv \n",
    "import pandas as pd\n",
    "from fuzzywuzzy import process\n",
    "from fuzzywuzzy import fuzz\n",
    "import numpy as np\n",
    "import nltk\n",
    "import itertools\n",
    "from nltk.corpus import stopwords\n",
    "nltk.download(\"stopwords\")\n",
    "nltk.download('punkt')"
   ]
  },
  {
   "cell_type": "code",
   "execution_count": 88,
   "metadata": {},
   "outputs": [],
   "source": [
    "def pre_process_df_keywords(df):\n",
    "    for column in df.columns:\n",
    "        for indx, entry in enumerate(df[column].dropna(axis=0)):\n",
    "            if len(entry.split()) > 1 and entry[-1] != \" \":\n",
    "                df[column][indx] = entry + \" \"\n",
    "                \n",
    "def pre_process(message):\n",
    "    stopWords = set(stopwords.words('english'))\n",
    "    pronouns = [\"we\", \"We\",\"WE\",\"I\",\"me\",\"Me\",\"ME\",\"THEY\",\"they\",\"They\",\"Them\",\"them\",\"THEM\",\"YOU\",\"You\",\"you\"]\n",
    "    result = []\n",
    "    for word in message.split():\n",
    "        if word not in stopWords and word not in pronouns:\n",
    "            result.append(word)\n",
    "    return (result)\n",
    "    \n",
    "def gen_len(iter):\n",
    "    return sum([1 for _ in iter])\n",
    "\n",
    "\n",
    "def isMatch_1_word(word1,word2,thresh=80): return (fuzz.ratio(word1, word2) > thresh)\n",
    "def isMatch_many_words(word1,message,thresh=90): return (fuzz.partial_ratio(word1, message) >= thresh)\n",
    "\n",
    "def column_summary(word1, df):\n",
    "    summary = np.zeros(len(df.columns))\n",
    "    for col_indx, worker in enumerate(df.columns):\n",
    "        for word2 in df[worker].dropna(axis=0):\n",
    "            if isMatch_1_word(word1,word2):\n",
    "                summary[col_indx]+=1\n",
    "    return summary\n",
    "\n",
    "def column_summary_2(raw_message,df):\n",
    "    summary = np.zeros(len(df.columns))\n",
    "    for col_indx, worker in enumerate(df.columns):\n",
    "        two_words = df[df[worker].apply(lambda x: len(str(x).split())>1)][worker]\n",
    "        for word in two_words.dropna(axis=0):\n",
    "            if isMatch_many_words(word, raw_message): \n",
    "                summary[col_indx]+=1\n",
    "    return summary"
   ]
  },
  {
   "cell_type": "code",
   "execution_count": 89,
   "metadata": {},
   "outputs": [],
   "source": [
    "xls = pd.ExcelFile('strings stems.xlsx')\n",
    "first = pd.read_excel(xls, 'first').dropna(axis=1, how='all').dropna(axis=0, how='all')\n",
    "parent_second = pd.read_excel(xls, 'parent second').dropna(axis=1, how='all').dropna(axis=0, how='all')\n",
    "bad_keywords= pd.read_excel(xls, 'bad keywords').dropna(axis=1, how='all').dropna(axis=0, how='all')\n",
    "at_least_another= pd.read_excel(xls, 'at least another').dropna(axis=1, how='all').dropna(axis=0, how='all')\n",
    "\n",
    "pre_process_df_keywords(first)\n",
    "pre_process_df_keywords(parent_second)\n",
    "pre_process_df_keywords(bad_keywords)\n",
    "\n"
   ]
  },
  {
   "cell_type": "code",
   "execution_count": 57,
   "metadata": {
    "jupyter": {
     "source_hidden": true
    }
   },
   "outputs": [],
   "source": [
    "def step_1(message, bad_keywords):\n",
    "    one_words = bad_keywords[bad_keywords['name'].apply(lambda x: not len(x.split())>1)][\"name\"]\n",
    "    two_words = bad_keywords[bad_keywords['name'].apply(lambda x: len(x.split())>1)][\"name\"]\n",
    "    \n",
    "    matched_words = []\n",
    "    for word in pre_process(message):\n",
    "        if any([isMatch_1_word(word, word2, thresh=85) for word2 in one_words]): matched_words.append(word)\n",
    "    for word in two_words:\n",
    "        if isMatch_many_words(word, message): matched_words.append(word)\n",
    "    \n",
    "    return matched_words\n",
    "\n",
    "\n",
    "def step_2(message, at_least_another):\n",
    "    msg = pre_process(message)\n",
    "    masks = {\"match\": [],\n",
    "             \"message_indx\":[],\n",
    "            \"df_indx\": [],}\n",
    "\n",
    "    for word_indx, word in enumerate(msg): \n",
    "        for keyword_indx, keyword in enumerate(at_least_another[\"name\"]):\n",
    "            if isMatch_1_word(word,keyword):\n",
    "                masks[\"match\"].append(word)\n",
    "                masks[\"message_indx\"].append(word_indx)\n",
    "                masks[\"df_indx\"].append(keyword_indx)\n",
    "\n",
    "\n",
    "\n",
    "    key_word_match_rows = at_least_another.iloc[masks[\"df_indx\"]].dropna(axis=1, how=\"all\")\n",
    "    key_word_match_rows.drop(\"name\", axis=1)\n",
    "\n",
    "\n",
    "\n",
    "    matching_keys = pd.DataFrame(masks)\n",
    "    key_word_match_rows.drop(\"name\", axis=1)\n",
    "\n",
    "    words_to_drop = []\n",
    "    for row_indx, row in key_word_match_rows.drop(\"name\", axis=1).iterrows():\n",
    "        if all(pd.isna(row.values)):\n",
    "            words_to_drop.append(row_indx)\n",
    "            continue\n",
    "                \n",
    "        else: words_to_drop.append(0.01)\n",
    "            #for keyword in row.values:\n",
    "            #    if pd.isna(keyword): continue\n",
    "            #    elif any([isMatch_1_word(keyword, msg_word) for msg_word in msg]):\n",
    "            #        words_to_drop.append(0.0)\n",
    "            #        break\n",
    "            #    else:\n",
    "            #        if row_indx not in words_to_drop: words_to_drop.append(row_indx)\n",
    "    words_to_drop_1 = matching_keys[\"match\"][matching_keys[\"df_indx\"].values == words_to_drop].values\n",
    "    for i in set(words_to_drop_1):\n",
    "        msg.remove(i)\n",
    "    return msg"
   ]
  },
  {
   "cell_type": "code",
   "execution_count": 122,
   "metadata": {},
   "outputs": [],
   "source": [
    "def summarize(message, first):\n",
    "    mat = np.zeros((len(message),len(first.columns)))\n",
    "    for word_indx, word in enumerate(message):    \n",
    "        mat[word_indx]=(column_summary(word,first)) \n",
    "    return mat\n",
    "\n",
    "def find_workers(message, first):\n",
    "    mat = np.zeros((len(message),len(first.columns)))\n",
    "    for word_indx, word in enumerate(message):    \n",
    "        mat[word_indx]=(column_summary(word,first))\n",
    "    \n",
    "    mat = summarize(message, first)\n",
    "    summary = np.array(mat).sum(axis=0)\n",
    "    \n",
    "    word_to_omit = []\n",
    "    for word_indx, row_word in enumerate(mat[:]):\n",
    "        if row_word.sum() == 0:\n",
    "            word_to_omit.append(message[word_indx])\n",
    "            continue\n",
    "        if len(first.columns[row_word != 0]) > 1:\n",
    "            word_to_omit.append(message[word_indx])\n",
    "\n",
    "    mat = summarize(message, first)\n",
    "    print(mat)\n",
    "    summary = np.array(mat).sum(axis=0)\n",
    "    print(summary)\n",
    "    for i in word_to_omit:\n",
    "        message.remove(i)\n",
    "\n",
    "    mat = summarize(message, first)\n",
    "    \n",
    "    summary = np.array(mat).sum(axis=0)\n",
    "    match_worker = first.columns[summary>1]\n",
    "    print(f\"\"\"He is looking for >>> {match_worker}\"\"\")\n",
    "    return match_worker"
   ]
  },
  {
   "cell_type": "code",
   "execution_count": 131,
   "metadata": {},
   "outputs": [
    {
     "name": "stdout",
     "output_type": "stream",
     "text": [
      "[]\n",
      "[[1. 0. 0. 0. 0. 0. 0. 0. 0. 0. 0. 0.]\n",
      " [1. 0. 0. 0. 0. 0. 0. 0. 0. 0. 0. 0.]\n",
      " [0. 0. 0. 0. 0. 0. 0. 0. 0. 0. 0. 0.]\n",
      " [0. 0. 0. 0. 0. 0. 0. 0. 0. 0. 0. 0.]\n",
      " [0. 0. 0. 0. 0. 0. 0. 0. 0. 0. 0. 0.]\n",
      " [0. 0. 0. 0. 0. 0. 0. 0. 0. 0. 0. 0.]\n",
      " [1. 0. 0. 0. 0. 0. 0. 0. 0. 0. 0. 0.]\n",
      " [0. 0. 0. 0. 1. 0. 0. 0. 0. 0. 0. 0.]]\n",
      "[3. 0. 0. 0. 1. 0. 0. 0. 0. 0. 0. 0.]\n",
      "He is looking for >>> Index(['a graphic designer'], dtype='object')\n"
     ]
    },
    {
     "data": {
      "text/plain": [
       "Index(['a graphic designer'], dtype='object')"
      ]
     },
     "execution_count": 131,
     "metadata": {},
     "output_type": "execute_result"
    }
   ],
   "source": [
    "raw_message = \"\"\"\n",
    "I photoshop and photo shop a  ASAP. I need ASAP photoshop  vfx\n",
    "\"\"\".lower()\n",
    "print(\"Breaking\") if step_1(raw_message, bad_keywords) else False\n",
    "print(step_1(raw_message, bad_keywords))\n",
    "message = pre_process(raw_message)\n",
    "\n",
    "find_workers(message, first)"
   ]
  },
  {
   "cell_type": "code",
   "execution_count": 80,
   "metadata": {},
   "outputs": [
    {
     "data": {
      "text/plain": [
       "84"
      ]
     },
     "execution_count": 80,
     "metadata": {},
     "output_type": "execute_result"
    }
   ],
   "source": [
    "fuzz.ratio(\"photoshop\",\"photoshoot\")"
   ]
  },
  {
   "cell_type": "code",
   "execution_count": 86,
   "metadata": {},
   "outputs": [
    {
     "data": {
      "text/plain": [
       "[1, 2, 3, 4, 5, 6]"
      ]
     },
     "execution_count": 86,
     "metadata": {},
     "output_type": "execute_result"
    }
   ],
   "source": [
    "[1,2,3] + [4,5,6]"
   ]
  },
  {
   "cell_type": "code",
   "execution_count": null,
   "metadata": {},
   "outputs": [],
   "source": []
  }
 ],
 "metadata": {
  "kernelspec": {
   "display_name": "Python 3",
   "language": "python",
   "name": "python3"
  },
  "language_info": {
   "codemirror_mode": {
    "name": "ipython",
    "version": 3
   },
   "file_extension": ".py",
   "mimetype": "text/x-python",
   "name": "python",
   "nbconvert_exporter": "python",
   "pygments_lexer": "ipython3",
   "version": "3.6.9"
  }
 },
 "nbformat": 4,
 "nbformat_minor": 4
}
