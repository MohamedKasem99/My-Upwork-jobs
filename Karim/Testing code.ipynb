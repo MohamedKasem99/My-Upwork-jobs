{
 "cells": [
  {
   "cell_type": "code",
   "execution_count": 1,
   "metadata": {},
   "outputs": [
    {
     "name": "stdout",
     "output_type": "stream",
     "text": [
      "Obtained my token successfully!\n",
      "{'data': 2, 'error': 'task_on_executing', 'error_Description': \"Task is running! You don't need to start again.\"}\n",
      "{'data': 1, 'error': 'success', 'error_Description': 'Task is started successfully!'}\n",
      "{'data': 1, 'error': 'success', 'error_Description': 'Task is started successfully!'}\n",
      "{'data': 2, 'error': 'task_on_executing', 'error_Description': \"Task is running! You don't need to start again.\"}\n",
      "NFiles Not exported, Could be empty or a problem with octoparse. Considered empty for now\n",
      "secondextract Not exported, Could be empty or a problem with octoparse. Considered empty for now\n",
      "thirdextract Not exported, Could be empty or a problem with octoparse. Considered empty for now\n"
     ]
    }
   ],
   "source": [
    "import run_api"
   ]
  },
  {
   "cell_type": "code",
   "execution_count": 2,
   "metadata": {},
   "outputs": [
    {
     "name": "stderr",
     "output_type": "stream",
     "text": [
      "[nltk_data] Downloading package stopwords to /home/kasem/nltk_data...\n",
      "[nltk_data]   Package stopwords is already up-to-date!\n",
      "[nltk_data] Downloading package punkt to /home/kasem/nltk_data...\n",
      "[nltk_data]   Package punkt is already up-to-date!\n"
     ]
    }
   ],
   "source": [
    "import utils\n",
    "from ner import NER\n",
    "\n",
    "csv = utils.csv\n",
    "pd = utils.pd\n",
    "np = utils.np\n",
    "nltk = utils.nltk\n",
    "itertools = utils.itertools\n",
    "re = utils.re"
   ]
  },
  {
   "cell_type": "code",
   "execution_count": 3,
   "metadata": {},
   "outputs": [],
   "source": [
    "xls = pd.ExcelFile('strings stems.xlsx')\n",
    "first = pd.read_excel(xls, 'first').dropna(axis=1, how='all').dropna(axis=0, how='all')\n",
    "parent_second = pd.read_excel(xls, 'parent second').dropna(axis=1, how='all').dropna(axis=0, how='all')\n",
    "tutoring = pd.read_excel(xls, 'Tutoring').dropna(axis=1, how='all').dropna(axis=0, how='all')\n",
    "bad_keywords= pd.read_excel(xls, 'bad keywords').dropna(axis=1, how='all').dropna(axis=0, how='all')\n",
    "at_least_another= pd.read_excel(xls, 'at least another').dropna(axis=1, how='all').dropna(axis=0, how='all')\n",
    "\n",
    "payments = pd.read_excel(xls, 'payments').dropna(axis=1, how='all').dropna(axis=0, how='all')\n",
    "contract = pd.read_excel(xls, 'contract').dropna(axis=1, how='all').dropna(axis=0, how='all')\n",
    "\n",
    "\n",
    "utils.pre_process_df_keywords(parent_second)\n",
    "utils.pre_process_df_keywords(first)\n",
    "utils.pre_process_df_keywords(bad_keywords)\n",
    "\n"
   ]
  },
  {
   "cell_type": "code",
   "execution_count": 4,
   "metadata": {},
   "outputs": [],
   "source": [
    "extractor = NER()"
   ]
  },
  {
   "cell_type": "code",
   "execution_count": 5,
   "metadata": {},
   "outputs": [],
   "source": [
    "Nfiles_df_list, first_extract, second_extract, third_extract = run_api.Nfiles_df_list, run_api.first_extract_df, run_api.second_extract_df, run_api.third_extract_df\n",
    "first_extract.rename(inplace=True, columns={\"field1_Text_Text\": \"title\", \"field1_Link_Link\": \"link\"})\n",
    "first_extract = run_api.cleanup_df(first_extract,\"title\")\n",
    "second_extract = run_api.cleanup_df(second_extract,\"field1\")\n",
    "third_extract = run_api.cleanup_df(third_extract,\"email\")\n",
    "\n",
    "extracted_pay = utils.extract_pay_info(second_extract,extractor)"
   ]
  },
  {
   "cell_type": "code",
   "execution_count": 6,
   "metadata": {},
   "outputs": [],
   "source": [
    "second_extract_pay_appended = second_extract.reset_index().merge(extracted_pay.reset_index(), on=\"index\",how=\"left\").drop([\"index\",\"field\",\"Res\"],axis=1)\n",
    "all_info = second_extract_pay_appended.merge(third_extract, on= \"field1\", how=\"left\").dropna().drop_duplicates(subset = \"email\")\n",
    "all_info.rename(columns={\"field1\": \"title\", \"field2\":\"body\", \"field3\": \"compensation\",\"email\": \"email\", \"Decesion\":\"pay_amount\"}, inplace=True)"
   ]
  },
  {
   "cell_type": "code",
   "execution_count": 95,
   "metadata": {},
   "outputs": [
    {
     "data": {
      "text/plain": [
       "array(['a graphic designer'], dtype=object)"
      ]
     },
     "execution_count": 95,
     "metadata": {},
     "output_type": "execute_result"
    }
   ],
   "source": [
    "pay_amount, rate, cl_email = -1, \"NA\", \"\"\n",
    "\n",
    "title = \"Graphic Designer Wanted For Weekly Flyer And Special Flyers\"\n",
    "\n",
    "body = \"\"\"QR Code Link to This Post\n",
    "            \n",
    "        \n",
    "We are doing a weekly Techno party and we're looking for Graphic designers who do great content in that genre. We are also looking for graphic designers who have international appeal and can make an array of different types of designs. Pay for our weekly parties is a minimum of $30 per event (but may vary depending on the quality of work per designer). For special jpegs we are negotiable. For consideration please submit your name, contact number,  design work, age,  and any other reference of work.\n",
    "\n",
    "\"\"\"     \n",
    "raw_job_post = title + \"\\n\\n\" + body\n",
    "generated_email = \"\"\n",
    "\n",
    "raw_job_post = raw_job_post.replace(\"QR Code Link to This Post\", \"\").lower()\n",
    "\n",
    "job_post = utils.pre_process(raw_job_post)\n",
    "\n",
    "if len(raw_job_post) < 5 and len(raw_job_post.split()) <2:\n",
    "    print(f\"Breaking!! because is too short\\n\\n\")\n",
    "#     continue\n",
    "\n",
    "\n",
    "if any(utils.step_1(raw_job_post, utils.get_two_word(job_post), bad_keywords)):\n",
    "    print(f\"Breaking!! because {utils.step_1(raw_job_post, utils.get_two_word(job_post), bad_keywords)} detected\\n\\n\") \n",
    "#     continue\n",
    "\n",
    "first_result = utils.find_workers(raw_job_post, job_post, first, at_least_another)[0]\n",
    "first_result"
   ]
  },
  {
   "cell_type": "code",
   "execution_count": 40,
   "metadata": {},
   "outputs": [
    {
     "data": {
      "text/plain": [
       "array(['photoshop', 'wordpress', 'indesign', 'russian'], dtype=object)"
      ]
     },
     "execution_count": 40,
     "metadata": {},
     "output_type": "execute_result"
    }
   ],
   "source": [
    "highest_match = utils.find_workers(raw_job_post, job_post, first, at_least_another)[1]\n",
    "parent_second_result = utils.find_workers(raw_job_post, job_post, parent_second)[0]\n",
    "tutoring_result = utils.find_workers(raw_job_post, job_post, tutoring)[0]\n",
    "parent_second_result"
   ]
  },
  {
   "cell_type": "code",
   "execution_count": 29,
   "metadata": {},
   "outputs": [
    {
     "name": "stdout",
     "output_type": "stream",
     "text": [
      "Test\n",
      "Title: I need a graphic design\n",
      "body: QR Code Link to This Post\n",
      "\n",
      "I'm looking for a graphic designer who can alter some of my photos and add text\n",
      "on them to look like a magazine cover or an add.\n",
      "Someone who can write in different languages (Russian preferred) would be great.\n",
      "Please send me your work to look at.\n",
      "I will pay $15- $40 per picture, depends on how much text. I need about 6 pictures.\n",
      "\n",
      "\n",
      "\n",
      "generated email: \n",
      "\n",
      "Greetings,\n",
      "I see that you are looking for a graphic designer well versed in photoshop, indesign and russian and I can help you with that!\n",
      "\n",
      "My name is Karim and I am looking forward to fostering a long-term relationship with you or become your go-to service provider for any related future inquiries.\n",
      "In this instance and rather than providing you with a quote as I assume you are on a budget, I would prefer to ask you how much are you expecting to pay for this service? if it is reasonable, I would gladly offer you my services. \n",
      "\n",
      "Feel free to have a look at my samples:\n",
      "    \n",
      "I accept payments through Paypal as it is the only platform that provides a buyer’s protection for you. \n",
      "I could send you an invoice for the service provided if needed. However, if you have other preferences, feel free to let me know.\n",
      "    \n",
      "\n",
      "\n",
      "If interested or have any further questions, feel free to reach me at your earliest convenience and by your preferred mean of communication.\n",
      "Sincerely, \n",
      "Karim\n",
      "karimafilal@hotmail.com\n",
      "(408) 393-4260 \n",
      "\n"
     ]
    }
   ],
   "source": [
    "pay_method = utils.find_matching_key_word(job_post,payments)\n",
    "contract_type = utils.find_matching_key_word(job_post,contract)\n",
    "\n",
    "\n",
    "formatted_first = \"\"\n",
    "formatted_second_parent = \"\"\n",
    "formatted_pay = \"\"\n",
    "formatted_tutoring = \"\"\n",
    "formatted_pay_method = \"\"\n",
    "formatted_contract_type = \"\"\n",
    "formatted_sample = \"\"\n",
    "\n",
    "is_sample = False\n",
    "is_tutor = any(tutoring_result)\n",
    "is_payment_method = any(pay_method)\n",
    "is_contract_type = any(contract_type)\n",
    "\n",
    "if any(first_result):\n",
    "\n",
    "    if \"someone\" not in first_result:\n",
    "        if len(first_result) == 1: formatted_first = first_result[0]\n",
    "        elif len(first_result) == 2: formatted_first = f\"{first_result[0]} and {first_result[1]}\"\n",
    "        elif len(first_result) == 3: formatted_first = f\"{first_result[0]}, {first_result[1]} and {first_result[2]}\"\n",
    "        else: formatted_first = \"someone\"\n",
    "    else: formatted_first = \"someone\"\n",
    "\n",
    "\n",
    "    if any(parent_second_result):\n",
    "        if len(parent_second_result) == 1: formatted_second_parent = parent_second_result[0]\n",
    "        elif len(parent_second_result) == 2: formatted_second_parent = f\"{parent_second_result[0]} and {parent_second_result[1]}\"\n",
    "        elif len(parent_second_result) == 3: formatted_second_parent = f\"{parent_second_result[0]}, {parent_second_result[1]} and {parent_second_result[2]}\"\n",
    "        else: formatted_second_parent = \"many things\"\n",
    "        is_sample = any(['karim' in parent_second[i].values for i in parent_second_result])\n",
    "\n",
    "\n",
    "else:\n",
    "    print(f\"Breaking because no first parent found\")\n",
    "    #continue\n",
    "\n",
    "\n",
    "\n",
    "formatted_second_parent_final =f\"well versed in {formatted_second_parent} and I can help you with that!\" if formatted_second_parent != \"\" else \"\"\n",
    "cond_1 = f\"I see that you are looking for {formatted_first} {formatted_second_parent_final}\"\n",
    "\n",
    "if pay_amount > 0:\n",
    "    formatted_pay = f\"\"\" Hence, I am willing to offer you this service for {pay_amount*0.8} instead of {pay_amount}\"\"\"\n",
    "else:\n",
    "    formatted_pay = \"\"\"In this instance and rather than providing you with a quote as I assume you are on a budget, I would prefer to ask you how much are you expecting to pay for this service? if it is reasonable, I would gladly offer you my services. \"\"\"\n",
    "\n",
    "if is_tutor:\n",
    "    formatted_tutoring = \"\"\"As I understood, you are seeking someone to teach you how to do things instead of providing you with the services. What I generally do for my clients would be that I would ask you to provide me details regarding a specific project you have in mind, and I would self-record myself doing it. This will enable you to skip the learning of basics and ancillary things and learn exactly what you want. You will have the video showing every movements and actions being made from scratch to the result. I will also provide you, if needed, the resulting work.\"\"\"\n",
    "\n",
    "if is_sample:\n",
    "    formatted_sample = \"\"\"Feel free to have a look at my samples:\n",
    "    \"\"\"\n",
    "\n",
    "if is_payment_method:\n",
    "    formatted_pay_method = f\"\"\"I am fine to accept payments with {pay_method[0]} as you have mentioned it within your posting.\n",
    "    \"\"\"\n",
    "else:\n",
    "    formatted_pay_method = f\"\"\"I accept payments through Paypal as it is the only platform that provides a buyer’s protection for you. \n",
    "I could send you an invoice for the service provided if needed. However, if you have other preferences, feel free to let me know.\n",
    "    \"\"\"\n",
    "\n",
    "if is_contract_type:\n",
    "    formatted_contract_type = f\"\"\"I am also willing, per your request to provide you/sign a {contract_type[0]} at your request.\n",
    "    \"\"\"\n",
    "\n",
    "generated_email = f\"\"\"\n",
    "{cl_email}\n",
    "Greetings,\n",
    "{cond_1}\n",
    "\n",
    "My name is Karim and I am looking forward to fostering a long-term relationship with you or become your go-to service provider for any related future inquiries.\n",
    "{formatted_pay}\n",
    "{formatted_tutoring}\n",
    "{formatted_sample}\n",
    "{formatted_pay_method}\n",
    "{formatted_contract_type}\n",
    "\n",
    "If interested or have any further questions, feel free to reach me at your earliest convenience and by your preferred mean of communication.\n",
    "Sincerely, \n",
    "Karim\n",
    "karimafilal@hotmail.com\n",
    "(408) 393-4260 \"\"\"\n",
    "\n",
    "#send_mail(subject, generated_email, \"firstenaction@gmail.com\", \"CastirlaCorte56\", \"karimafilal@hotmail.com\")\n",
    "print(f\"\"\"Test\n",
    "Title: {title}\n",
    "body: {body}\n",
    "\n",
    "\n",
    "generated email: {generated_email}\n",
    "\"\"\")\n",
    "#print(generated_email)\n",
    "\n",
    "#all_info = run_api.append_non_exported(\"sent.csv\", all_info).dropna().drop_duplicates()\n",
    "#all_info.to_csv(\"sent.csv\", index=False)"
   ]
  },
  {
   "cell_type": "code",
   "execution_count": 25,
   "metadata": {},
   "outputs": [
    {
     "data": {
      "text/plain": [
       "array(['photoshop', 'indesign', 'russian'], dtype=object)"
      ]
     },
     "execution_count": 25,
     "metadata": {},
     "output_type": "execute_result"
    }
   ],
   "source": [
    "parent_second_result"
   ]
  },
  {
   "cell_type": "code",
   "execution_count": 26,
   "metadata": {},
   "outputs": [],
   "source": [
    "import os"
   ]
  },
  {
   "cell_type": "code",
   "execution_count": 65,
   "metadata": {},
   "outputs": [
    {
     "name": "stdout",
     "output_type": "stream",
     "text": [
      "photoshop: (before/after): https://1drv.ms/u/s!Ap7N4wuRlyn-gwMvwfXMiXdzXKP9?e=IMFbyB\n",
      "\n"
     ]
    }
   ],
   "source": [
    "samples=[]\n",
    "for file_name in parent_second_result:\n",
    "    path = f\"samples/{file_name}.txt\"\n",
    "    if os.path.isfile(path):\n",
    "        with open(path,\"r\") as file:\n",
    "            sample = file.read().strip()\n",
    "        samples.append({file_name: sample})\n",
    "        \n",
    "        \n",
    "string = \"\"\"\"\"\"\n",
    "for i in samples:\n",
    "    string = string + (str(i)) + \"\\n\"\n",
    "string = (string.replace(\"{\",\"\").replace(\"}\",\"\").replace(\"'\",\"\"))\n",
    "print(string)"
   ]
  },
  {
   "cell_type": "code",
   "execution_count": 10,
   "metadata": {},
   "outputs": [],
   "source": [
    "all_info = run_api.append_non_exported(\"sent.csv\", all_info).dropna().drop_duplicates()\n",
    "all_info.to_csv(\"sent.csv\", index=False)"
   ]
  },
  {
   "cell_type": "code",
   "execution_count": null,
   "metadata": {},
   "outputs": [],
   "source": [
    "sent.csv file = 119 rows before clearing."
   ]
  },
  {
   "cell_type": "code",
   "execution_count": 11,
   "metadata": {},
   "outputs": [
    {
     "data": {
      "text/html": [
       "<div>\n",
       "<style scoped>\n",
       "    .dataframe tbody tr th:only-of-type {\n",
       "        vertical-align: middle;\n",
       "    }\n",
       "\n",
       "    .dataframe tbody tr th {\n",
       "        vertical-align: top;\n",
       "    }\n",
       "\n",
       "    .dataframe thead th {\n",
       "        text-align: right;\n",
       "    }\n",
       "</style>\n",
       "<table border=\"1\" class=\"dataframe\">\n",
       "  <thead>\n",
       "    <tr style=\"text-align: right;\">\n",
       "      <th></th>\n",
       "      <th>title</th>\n",
       "      <th>body</th>\n",
       "      <th>compensation</th>\n",
       "      <th>pay_amount</th>\n",
       "      <th>amount</th>\n",
       "      <th>email</th>\n",
       "    </tr>\n",
       "  </thead>\n",
       "  <tbody>\n",
       "    <tr>\n",
       "      <th>0</th>\n",
       "      <td>Part time Designer or Developer Needed</td>\n",
       "      <td>QR Code Link to This Post\\n            \\n     ...</td>\n",
       "      <td>compensation: Hourly pay</td>\n",
       "      <td>-1</td>\n",
       "      <td>hourly</td>\n",
       "      <td>acfb7d734a253ebb96c7b9f41edfb09d@gigs.craigsli...</td>\n",
       "    </tr>\n",
       "    <tr>\n",
       "      <th>1</th>\n",
       "      <td>Fitness influencer for Video Tutorials</td>\n",
       "      <td>QR Code Link to This Post\\n            \\n     ...</td>\n",
       "      <td>compensation: Videos for your social media</td>\n",
       "      <td>-1</td>\n",
       "      <td>your social media</td>\n",
       "      <td>0b33353750073c1880bce115475a4794@gigs.craigsli...</td>\n",
       "    </tr>\n",
       "    <tr>\n",
       "      <th>2</th>\n",
       "      <td>Writing facts about business</td>\n",
       "      <td>QR Code Link to This Post\\n            \\n     ...</td>\n",
       "      <td>compensation: candidate will be paid $15 for t...</td>\n",
       "      <td>15</td>\n",
       "      <td>this gig</td>\n",
       "      <td>af531808f7ab3b508658a46d945d2cb4@gigs.craigsli...</td>\n",
       "    </tr>\n",
       "    <tr>\n",
       "      <th>3</th>\n",
       "      <td>Windows 10 PC migrations</td>\n",
       "      <td>QR Code Link to This Post\\n            \\n     ...</td>\n",
       "      <td>compensation: Best hourly rate or per unit offer</td>\n",
       "      <td>-1</td>\n",
       "      <td>hourly</td>\n",
       "      <td>46ed13404c9136f6b64f4078d00761a4@gigs.craigsli...</td>\n",
       "    </tr>\n",
       "    <tr>\n",
       "      <th>4</th>\n",
       "      <td>Seeking models for photo project</td>\n",
       "      <td>QR Code Link to This Post\\n            \\n     ...</td>\n",
       "      <td>compensation: 1.5 hours + photos</td>\n",
       "      <td>-1</td>\n",
       "      <td>hour</td>\n",
       "      <td>b850f4e42f423db1bd169ad204a8a0b1@gigs.craigsli...</td>\n",
       "    </tr>\n",
       "    <tr>\n",
       "      <th>...</th>\n",
       "      <td>...</td>\n",
       "      <td>...</td>\n",
       "      <td>...</td>\n",
       "      <td>...</td>\n",
       "      <td>...</td>\n",
       "      <td>...</td>\n",
       "    </tr>\n",
       "    <tr>\n",
       "      <th>83</th>\n",
       "      <td>Fashion Week: Hiring Models</td>\n",
       "      <td>QR Code Link to This Post\\n            \\n     ...</td>\n",
       "      <td>compensation: $300-$500/a show</td>\n",
       "      <td>300</td>\n",
       "      <td>a show</td>\n",
       "      <td>e7b6342fc46b3b99bbd027524ff8885c@gigs.craigsli...</td>\n",
       "    </tr>\n",
       "    <tr>\n",
       "      <th>84</th>\n",
       "      <td>Custom Online Booking Website</td>\n",
       "      <td>QR Code Link to This Post\\n            \\n     ...</td>\n",
       "      <td>compensation: $25,000/year</td>\n",
       "      <td>25000</td>\n",
       "      <td>year</td>\n",
       "      <td>26cd83a899d73dfd85c3a2d97ce2c038@gigs.craigsli...</td>\n",
       "    </tr>\n",
       "    <tr>\n",
       "      <th>85</th>\n",
       "      <td>Software Development Intern/StudentNeeded</td>\n",
       "      <td>QR Code Link to This Post\\n            \\n     ...</td>\n",
       "      <td>compensation: $15-$20/hr</td>\n",
       "      <td>15</td>\n",
       "      <td>hr</td>\n",
       "      <td>5df2dca2ab8935e98a7b466f91847f28@gigs.craigsli...</td>\n",
       "    </tr>\n",
       "    <tr>\n",
       "      <th>86</th>\n",
       "      <td>Experienced Marketing Writer Wanted</td>\n",
       "      <td>QR Code Link to This Post\\n            \\n     ...</td>\n",
       "      <td>compensation: Hourly, commensurate with experi...</td>\n",
       "      <td>-1</td>\n",
       "      <td>hourly</td>\n",
       "      <td>a0c2332b57663d6c8f15dd07e6c22f82@gigs.craigsli...</td>\n",
       "    </tr>\n",
       "    <tr>\n",
       "      <th>175</th>\n",
       "      <td>Social Media Help in Chandler, AZ (Remote Work)</td>\n",
       "      <td>QR Code Link to This Post\\n            \\n     ...</td>\n",
       "      <td>compensation: Negotiable</td>\n",
       "      <td>-1</td>\n",
       "      <td>NA</td>\n",
       "      <td>43b5260524c5342bb093fb807dbee3a0@gigs.craigsli...</td>\n",
       "    </tr>\n",
       "  </tbody>\n",
       "</table>\n",
       "<p>88 rows × 6 columns</p>\n",
       "</div>"
      ],
      "text/plain": [
       "                                               title  \\\n",
       "0             Part time Designer or Developer Needed   \n",
       "1             Fitness influencer for Video Tutorials   \n",
       "2                       Writing facts about business   \n",
       "3                           Windows 10 PC migrations   \n",
       "4                   Seeking models for photo project   \n",
       "..                                               ...   \n",
       "83                       Fashion Week: Hiring Models   \n",
       "84                     Custom Online Booking Website   \n",
       "85         Software Development Intern/StudentNeeded   \n",
       "86               Experienced Marketing Writer Wanted   \n",
       "175  Social Media Help in Chandler, AZ (Remote Work)   \n",
       "\n",
       "                                                  body  \\\n",
       "0    QR Code Link to This Post\\n            \\n     ...   \n",
       "1    QR Code Link to This Post\\n            \\n     ...   \n",
       "2    QR Code Link to This Post\\n            \\n     ...   \n",
       "3    QR Code Link to This Post\\n            \\n     ...   \n",
       "4    QR Code Link to This Post\\n            \\n     ...   \n",
       "..                                                 ...   \n",
       "83   QR Code Link to This Post\\n            \\n     ...   \n",
       "84   QR Code Link to This Post\\n            \\n     ...   \n",
       "85   QR Code Link to This Post\\n            \\n     ...   \n",
       "86   QR Code Link to This Post\\n            \\n     ...   \n",
       "175  QR Code Link to This Post\\n            \\n     ...   \n",
       "\n",
       "                                          compensation pay_amount  \\\n",
       "0                             compensation: Hourly pay         -1   \n",
       "1           compensation: Videos for your social media         -1   \n",
       "2    compensation: candidate will be paid $15 for t...         15   \n",
       "3     compensation: Best hourly rate or per unit offer         -1   \n",
       "4                     compensation: 1.5 hours + photos         -1   \n",
       "..                                                 ...        ...   \n",
       "83                      compensation: $300-$500/a show        300   \n",
       "84                          compensation: $25,000/year      25000   \n",
       "85                            compensation: $15-$20/hr         15   \n",
       "86   compensation: Hourly, commensurate with experi...         -1   \n",
       "175                           compensation: Negotiable         -1   \n",
       "\n",
       "                 amount                                              email  \n",
       "0                hourly  acfb7d734a253ebb96c7b9f41edfb09d@gigs.craigsli...  \n",
       "1     your social media  0b33353750073c1880bce115475a4794@gigs.craigsli...  \n",
       "2              this gig  af531808f7ab3b508658a46d945d2cb4@gigs.craigsli...  \n",
       "3                hourly  46ed13404c9136f6b64f4078d00761a4@gigs.craigsli...  \n",
       "4                  hour  b850f4e42f423db1bd169ad204a8a0b1@gigs.craigsli...  \n",
       "..                  ...                                                ...  \n",
       "83               a show  e7b6342fc46b3b99bbd027524ff8885c@gigs.craigsli...  \n",
       "84                 year  26cd83a899d73dfd85c3a2d97ce2c038@gigs.craigsli...  \n",
       "85                   hr  5df2dca2ab8935e98a7b466f91847f28@gigs.craigsli...  \n",
       "86               hourly  a0c2332b57663d6c8f15dd07e6c22f82@gigs.craigsli...  \n",
       "175                  NA  43b5260524c5342bb093fb807dbee3a0@gigs.craigsli...  \n",
       "\n",
       "[88 rows x 6 columns]"
      ]
     },
     "execution_count": 11,
     "metadata": {},
     "output_type": "execute_result"
    }
   ],
   "source": [
    "all_info"
   ]
  },
  {
   "cell_type": "code",
   "execution_count": 9,
   "metadata": {},
   "outputs": [],
   "source": [
    "all_info.to_csv(\"sent.csv\", index=False)"
   ]
  },
  {
   "cell_type": "code",
   "execution_count": 16,
   "metadata": {},
   "outputs": [],
   "source": [
    "all_info = run_api.append_non_exported(\"sent.csv\", all_info).dropna().drop_duplicates()\n",
    "all_info.to_csv(\"sent.csv\", index=False)"
   ]
  },
  {
   "cell_type": "code",
   "execution_count": 24,
   "metadata": {},
   "outputs": [
    {
     "data": {
      "text/html": [
       "<div>\n",
       "<style scoped>\n",
       "    .dataframe tbody tr th:only-of-type {\n",
       "        vertical-align: middle;\n",
       "    }\n",
       "\n",
       "    .dataframe tbody tr th {\n",
       "        vertical-align: top;\n",
       "    }\n",
       "\n",
       "    .dataframe thead th {\n",
       "        text-align: right;\n",
       "    }\n",
       "</style>\n",
       "<table border=\"1\" class=\"dataframe\">\n",
       "  <thead>\n",
       "    <tr style=\"text-align: right;\">\n",
       "      <th></th>\n",
       "      <th>title</th>\n",
       "      <th>body</th>\n",
       "      <th>compensation</th>\n",
       "      <th>pay_amount</th>\n",
       "      <th>amount</th>\n",
       "      <th>email</th>\n",
       "    </tr>\n",
       "  </thead>\n",
       "  <tbody>\n",
       "    <tr>\n",
       "      <th>0</th>\n",
       "      <td>Wanted: SEO Marketing Intern</td>\n",
       "      <td>QR Code Link to This Post\\n            \\n     ...</td>\n",
       "      <td>compensation: $13/Hr</td>\n",
       "      <td>13</td>\n",
       "      <td>hr</td>\n",
       "      <td>02f446323bc833f88aa0f373e01f51db@gigs.craigsli...</td>\n",
       "    </tr>\n",
       "    <tr>\n",
       "      <th>1</th>\n",
       "      <td>Financial Accounting</td>\n",
       "      <td>QR Code Link to This Post\\n            \\n     ...</td>\n",
       "      <td>compensation: 50/neg</td>\n",
       "      <td>50</td>\n",
       "      <td>neg</td>\n",
       "      <td>6bdc664aa7ac3ea2b1a72fab7ea42726@gigs.craigsli...</td>\n",
       "    </tr>\n",
       "    <tr>\n",
       "      <th>2</th>\n",
       "      <td>Seeking Photography Model</td>\n",
       "      <td>QR Code Link to This Post\\n            \\n     ...</td>\n",
       "      <td>compensation: Rate $10 to $18 per hour</td>\n",
       "      <td>10</td>\n",
       "      <td>hour</td>\n",
       "      <td>7a2b40a3efcc3a598761a61a733665f1@gigs.craigsli...</td>\n",
       "    </tr>\n",
       "    <tr>\n",
       "      <th>3</th>\n",
       "      <td>looking for some one to do my seo on website</td>\n",
       "      <td>QR Code Link to This Post\\n            \\n     ...</td>\n",
       "      <td>compensation: i am paying 50.00 for 5 hours of...</td>\n",
       "      <td>-1</td>\n",
       "      <td>hour</td>\n",
       "      <td>1a6b9335f3543aadaff8c3ff1379ef46@gigs.craigsli...</td>\n",
       "    </tr>\n",
       "    <tr>\n",
       "      <th>4</th>\n",
       "      <td>Old couple or family wanted to model T shirt</td>\n",
       "      <td>QR Code Link to This Post\\n            \\n     ...</td>\n",
       "      <td>compensation: $50 per person. $130 for a Family.</td>\n",
       "      <td>50</td>\n",
       "      <td>a Family.</td>\n",
       "      <td>b39cddefeb2630dc8870c44260b0bf27@gigs.craigsli...</td>\n",
       "    </tr>\n",
       "    <tr>\n",
       "      <th>5</th>\n",
       "      <td>Social media marketing</td>\n",
       "      <td>QR Code Link to This Post\\n            \\n     ...</td>\n",
       "      <td>compensation: $15 an hour very flexible schedule</td>\n",
       "      <td>15</td>\n",
       "      <td>hour</td>\n",
       "      <td>ndosh3@gmail.com</td>\n",
       "    </tr>\n",
       "    <tr>\n",
       "      <th>6</th>\n",
       "      <td>Social Media Help in Chandler, AZ (Remote Work)</td>\n",
       "      <td>QR Code Link to This Post\\n            \\n     ...</td>\n",
       "      <td>compensation: Negotiable</td>\n",
       "      <td>-1</td>\n",
       "      <td>NA</td>\n",
       "      <td>43b5260524c5342bb093fb807dbee3a0@gigs.craigsli...</td>\n",
       "    </tr>\n",
       "    <tr>\n",
       "      <th>7</th>\n",
       "      <td>Graphic Designer for Poems + Photo Book</td>\n",
       "      <td>QR Code Link to This Post\\n            \\n     ...</td>\n",
       "      <td>compensation: to be discussed</td>\n",
       "      <td>-1</td>\n",
       "      <td>NA</td>\n",
       "      <td>c9cbdd1691a83ef18f496e45c223249d@gigs.craigsli...</td>\n",
       "    </tr>\n",
       "    <tr>\n",
       "      <th>8</th>\n",
       "      <td>Product testers needed for newly developed san...</td>\n",
       "      <td>QR Code Link to This Post\\n            \\n     ...</td>\n",
       "      <td>compensation: You will be reimbursed $24.99 - ...</td>\n",
       "      <td>24</td>\n",
       "      <td>NA</td>\n",
       "      <td>fddf7a78d5723726848eb5fe032fece3@gigs.craigsli...</td>\n",
       "    </tr>\n",
       "    <tr>\n",
       "      <th>9</th>\n",
       "      <td>Experienced Visual Effects Artist for a Short ...</td>\n",
       "      <td>QR Code Link to This Post\\n            \\n     ...</td>\n",
       "      <td>compensation: Pay rate is $600 flat.</td>\n",
       "      <td>600</td>\n",
       "      <td>NA</td>\n",
       "      <td>handsupmovie@gmail.com</td>\n",
       "    </tr>\n",
       "    <tr>\n",
       "      <th>10</th>\n",
       "      <td>Media Company Hiring Eager Men &amp; Women For Mod...</td>\n",
       "      <td>QR Code Link to This Post\\n            \\n     ...</td>\n",
       "      <td>compensation: Various</td>\n",
       "      <td>-1</td>\n",
       "      <td>NA</td>\n",
       "      <td>a28a72b1dfd33e2490332bfc16872aa1@gigs.craigsli...</td>\n",
       "    </tr>\n",
       "    <tr>\n",
       "      <th>11</th>\n",
       "      <td>CRAFTERS, MAKERS, ARTISTS &amp; VENDORS NEEDED</td>\n",
       "      <td>QR Code Link to This Post\\n            \\n     ...</td>\n",
       "      <td>compensation: PAY DEPENDS ON SERVICES &amp; SKILLS...</td>\n",
       "      <td>-1</td>\n",
       "      <td>NA</td>\n",
       "      <td>8ad526eec4953cada81ed93999dd3109@gigs.craigsli...</td>\n",
       "    </tr>\n",
       "    <tr>\n",
       "      <th>12</th>\n",
       "      <td>Develop my App</td>\n",
       "      <td>QR Code Link to This Post\\n            \\n     ...</td>\n",
       "      <td>compensation: DOE</td>\n",
       "      <td>-1</td>\n",
       "      <td>NA</td>\n",
       "      <td>bdbf6bd7ca0f36fe9e407e221afc9c2b@gigs.craigsli...</td>\n",
       "    </tr>\n",
       "  </tbody>\n",
       "</table>\n",
       "</div>"
      ],
      "text/plain": [
       "                                                title  \\\n",
       "0                        Wanted: SEO Marketing Intern   \n",
       "1                                Financial Accounting   \n",
       "2                           Seeking Photography Model   \n",
       "3        looking for some one to do my seo on website   \n",
       "4        Old couple or family wanted to model T shirt   \n",
       "5                              Social media marketing   \n",
       "6     Social Media Help in Chandler, AZ (Remote Work)   \n",
       "7             Graphic Designer for Poems + Photo Book   \n",
       "8   Product testers needed for newly developed san...   \n",
       "9   Experienced Visual Effects Artist for a Short ...   \n",
       "10  Media Company Hiring Eager Men & Women For Mod...   \n",
       "11         CRAFTERS, MAKERS, ARTISTS & VENDORS NEEDED   \n",
       "12                                     Develop my App   \n",
       "\n",
       "                                                 body  \\\n",
       "0   QR Code Link to This Post\\n            \\n     ...   \n",
       "1   QR Code Link to This Post\\n            \\n     ...   \n",
       "2   QR Code Link to This Post\\n            \\n     ...   \n",
       "3   QR Code Link to This Post\\n            \\n     ...   \n",
       "4   QR Code Link to This Post\\n            \\n     ...   \n",
       "5   QR Code Link to This Post\\n            \\n     ...   \n",
       "6   QR Code Link to This Post\\n            \\n     ...   \n",
       "7   QR Code Link to This Post\\n            \\n     ...   \n",
       "8   QR Code Link to This Post\\n            \\n     ...   \n",
       "9   QR Code Link to This Post\\n            \\n     ...   \n",
       "10  QR Code Link to This Post\\n            \\n     ...   \n",
       "11  QR Code Link to This Post\\n            \\n     ...   \n",
       "12  QR Code Link to This Post\\n            \\n     ...   \n",
       "\n",
       "                                         compensation pay_amount      amount  \\\n",
       "0                                compensation: $13/Hr         13          hr   \n",
       "1                                compensation: 50/neg         50         neg   \n",
       "2              compensation: Rate $10 to $18 per hour         10        hour   \n",
       "3   compensation: i am paying 50.00 for 5 hours of...         -1        hour   \n",
       "4    compensation: $50 per person. $130 for a Family.         50   a Family.   \n",
       "5    compensation: $15 an hour very flexible schedule         15        hour   \n",
       "6                            compensation: Negotiable         -1          NA   \n",
       "7                       compensation: to be discussed         -1          NA   \n",
       "8   compensation: You will be reimbursed $24.99 - ...         24          NA   \n",
       "9                compensation: Pay rate is $600 flat.        600          NA   \n",
       "10                              compensation: Various         -1          NA   \n",
       "11  compensation: PAY DEPENDS ON SERVICES & SKILLS...         -1          NA   \n",
       "12                                  compensation: DOE         -1          NA   \n",
       "\n",
       "                                                email  \n",
       "0   02f446323bc833f88aa0f373e01f51db@gigs.craigsli...  \n",
       "1   6bdc664aa7ac3ea2b1a72fab7ea42726@gigs.craigsli...  \n",
       "2   7a2b40a3efcc3a598761a61a733665f1@gigs.craigsli...  \n",
       "3   1a6b9335f3543aadaff8c3ff1379ef46@gigs.craigsli...  \n",
       "4   b39cddefeb2630dc8870c44260b0bf27@gigs.craigsli...  \n",
       "5                                    ndosh3@gmail.com  \n",
       "6   43b5260524c5342bb093fb807dbee3a0@gigs.craigsli...  \n",
       "7   c9cbdd1691a83ef18f496e45c223249d@gigs.craigsli...  \n",
       "8   fddf7a78d5723726848eb5fe032fece3@gigs.craigsli...  \n",
       "9                              handsupmovie@gmail.com  \n",
       "10  a28a72b1dfd33e2490332bfc16872aa1@gigs.craigsli...  \n",
       "11  8ad526eec4953cada81ed93999dd3109@gigs.craigsli...  \n",
       "12  bdbf6bd7ca0f36fe9e407e221afc9c2b@gigs.craigsli...  "
      ]
     },
     "execution_count": 24,
     "metadata": {},
     "output_type": "execute_result"
    }
   ],
   "source": [
    "#all_info = utils.compare_against_sent( all_info, pd.read_csv(\"sent.csv\"), [\"title\", \"body\", \"compensation\"])\n",
    "all_info.reset_index(drop=True)"
   ]
  },
  {
   "cell_type": "code",
   "execution_count": 103,
   "metadata": {},
   "outputs": [
    {
     "data": {
      "text/html": [
       "<div>\n",
       "<style scoped>\n",
       "    .dataframe tbody tr th:only-of-type {\n",
       "        vertical-align: middle;\n",
       "    }\n",
       "\n",
       "    .dataframe tbody tr th {\n",
       "        vertical-align: top;\n",
       "    }\n",
       "\n",
       "    .dataframe thead th {\n",
       "        text-align: right;\n",
       "    }\n",
       "</style>\n",
       "<table border=\"1\" class=\"dataframe\">\n",
       "  <thead>\n",
       "    <tr style=\"text-align: right;\">\n",
       "      <th></th>\n",
       "      <th>title</th>\n",
       "      <th>body</th>\n",
       "      <th>compensation</th>\n",
       "      <th>pay_amount</th>\n",
       "      <th>amount</th>\n",
       "      <th>email</th>\n",
       "    </tr>\n",
       "  </thead>\n",
       "  <tbody>\n",
       "    <tr>\n",
       "      <th>0</th>\n",
       "      <td>one</td>\n",
       "      <td>two</td>\n",
       "      <td>three</td>\n",
       "      <td>-1</td>\n",
       "      <td>s</td>\n",
       "      <td>s</td>\n",
       "    </tr>\n",
       "    <tr>\n",
       "      <th>1</th>\n",
       "      <td>Hi</td>\n",
       "      <td>Hello</td>\n",
       "      <td>fag</td>\n",
       "      <td>-1</td>\n",
       "      <td>s</td>\n",
       "      <td>s</td>\n",
       "    </tr>\n",
       "    <tr>\n",
       "      <th>2</th>\n",
       "      <td>smthing</td>\n",
       "      <td>ggg</td>\n",
       "      <td>editing</td>\n",
       "      <td>-1</td>\n",
       "      <td>s</td>\n",
       "      <td>v</td>\n",
       "    </tr>\n",
       "    <tr>\n",
       "      <th>3</th>\n",
       "      <td>Bob</td>\n",
       "      <td>ss</td>\n",
       "      <td>video</td>\n",
       "      <td>bobs</td>\n",
       "      <td>s</td>\n",
       "      <td>v</td>\n",
       "    </tr>\n",
       "    <tr>\n",
       "      <th>4</th>\n",
       "      <td>smthing</td>\n",
       "      <td>ggg</td>\n",
       "      <td>editing</td>\n",
       "      <td>bobs</td>\n",
       "      <td>s</td>\n",
       "      <td>v2</td>\n",
       "    </tr>\n",
       "  </tbody>\n",
       "</table>\n",
       "</div>"
      ],
      "text/plain": [
       "     title    body compensation pay_amount amount email\n",
       "0     one     two         three         -1      s     s\n",
       "1      Hi   Hello           fag         -1      s     s\n",
       "2  smthing     ggg      editing         -1      s     v\n",
       "3      Bob      ss        video       bobs      s     v\n",
       "4  smthing     ggg      editing       bobs      s    v2"
      ]
     },
     "execution_count": 103,
     "metadata": {},
     "output_type": "execute_result"
    }
   ],
   "source": [
    "columns = [\"title\",\"body\",\"compensation\"]\n",
    "df2 = pd.read_csv(\"sent.csv\")\n",
    "df2"
   ]
  },
  {
   "cell_type": "code",
   "execution_count": 104,
   "metadata": {},
   "outputs": [
    {
     "data": {
      "text/html": [
       "<div>\n",
       "<style scoped>\n",
       "    .dataframe tbody tr th:only-of-type {\n",
       "        vertical-align: middle;\n",
       "    }\n",
       "\n",
       "    .dataframe tbody tr th {\n",
       "        vertical-align: top;\n",
       "    }\n",
       "\n",
       "    .dataframe thead th {\n",
       "        text-align: right;\n",
       "    }\n",
       "</style>\n",
       "<table border=\"1\" class=\"dataframe\">\n",
       "  <thead>\n",
       "    <tr style=\"text-align: right;\">\n",
       "      <th></th>\n",
       "      <th>title</th>\n",
       "      <th>body</th>\n",
       "      <th>compensation</th>\n",
       "      <th>pay_amount</th>\n",
       "      <th>amount</th>\n",
       "      <th>email</th>\n",
       "    </tr>\n",
       "  </thead>\n",
       "  <tbody>\n",
       "    <tr>\n",
       "      <th>0</th>\n",
       "      <td>Bob1</td>\n",
       "      <td>ss</td>\n",
       "      <td>video</td>\n",
       "      <td>bobs</td>\n",
       "      <td>s</td>\n",
       "      <td>v</td>\n",
       "    </tr>\n",
       "  </tbody>\n",
       "</table>\n",
       "</div>"
      ],
      "text/plain": [
       "  title body compensation pay_amount amount email\n",
       "0  Bob1   ss        video       bobs      s     v"
      ]
     },
     "execution_count": 104,
     "metadata": {},
     "output_type": "execute_result"
    }
   ],
   "source": [
    "compare_against_sent(df1, df2, columns)"
   ]
  },
  {
   "cell_type": "code",
   "execution_count": 63,
   "metadata": {},
   "outputs": [],
   "source": [
    "run_api.append_non_exported(\"sent.csv\",df1).to_csv(\"sent.csv\", index=False)"
   ]
  },
  {
   "cell_type": "code",
   "execution_count": 93,
   "metadata": {},
   "outputs": [
    {
     "data": {
      "text/html": [
       "<div>\n",
       "<style scoped>\n",
       "    .dataframe tbody tr th:only-of-type {\n",
       "        vertical-align: middle;\n",
       "    }\n",
       "\n",
       "    .dataframe tbody tr th {\n",
       "        vertical-align: top;\n",
       "    }\n",
       "\n",
       "    .dataframe thead th {\n",
       "        text-align: right;\n",
       "    }\n",
       "</style>\n",
       "<table border=\"1\" class=\"dataframe\">\n",
       "  <thead>\n",
       "    <tr style=\"text-align: right;\">\n",
       "      <th></th>\n",
       "      <th>title</th>\n",
       "      <th>body</th>\n",
       "      <th>compensation</th>\n",
       "      <th>pay_amount</th>\n",
       "      <th>amount</th>\n",
       "      <th>email</th>\n",
       "    </tr>\n",
       "  </thead>\n",
       "  <tbody>\n",
       "  </tbody>\n",
       "</table>\n",
       "</div>"
      ],
      "text/plain": [
       "Empty DataFrame\n",
       "Columns: [title, body, compensation, pay_amount, amount, email]\n",
       "Index: []"
      ]
     },
     "execution_count": 93,
     "metadata": {},
     "output_type": "execute_result"
    }
   ],
   "source": [
    "df1.drop([0,1])"
   ]
  },
  {
   "cell_type": "code",
   "execution_count": 25,
   "metadata": {},
   "outputs": [],
   "source": [
    "import os"
   ]
  },
  {
   "cell_type": "code",
   "execution_count": 58,
   "metadata": {},
   "outputs": [],
   "source": [
    "samples=[]\n",
    "for file_name in parent_second_result:\n",
    "    path = f\"samples/{file_name}.txt\"\n",
    "    if os.path.isfile(path):\n",
    "        try:\n",
    "            with open(path,\"r\") as file:\n",
    "                sample = file.read().strip()\n",
    "            samples.append(sample + \"\\n\\n\")\n",
    "        except:\n",
    "            print(\"problem with file: \", file_name)"
   ]
  },
  {
   "cell_type": "code",
   "execution_count": 59,
   "metadata": {},
   "outputs": [
    {
     "name": "stdout",
     "output_type": "stream",
     "text": [
      "Here are my samples for photoshop where you can see the before and after versions\n",
      " https://1drv.ms/u/s!Ap7N4wuRlyn-gwMvwfXMiXdzXKP9?e=IMFbyB\n",
      "\n",
      "Feel free to have a look at my samples for wordpress: \n",
      "\n",
      "https://www.healthrevadvisors.com/\n",
      "https://www.firstcallrealestatesolutions.com/\n",
      "http://www.thinkcaicreators.com/\n",
      "https://solidgroundwellness.com/�\n",
      "https://laxfit.net/\n",
      "https://www.heart2heartrelationships.com/\n",
      "\n",
      "\n"
     ]
    }
   ],
   "source": [
    "string = \"\"\"\"\"\"\n",
    "for i in samples:\n",
    "    string += i\n",
    "print(string)"
   ]
  },
  {
   "cell_type": "code",
   "execution_count": 82,
   "metadata": {},
   "outputs": [
    {
     "data": {
      "text/plain": [
       "'QR Code Link to This Post\\n            \\n        \\nHello CL , \\n\\nWe are currently looking for Digital Marketers / Interns, LOCAL out of Phoenix for an IN HOUSE SEO/ Marketing role.\\n\\n This is Ideal if you are newer to the industry , a student , or having a hard time getting/ closing clients. \\n\\n\\nI have launched Web Design and Marketing Agencies in the past, and they have done very well until they were sold. Moving to Phoenix, I was not expecting so many clients coming to ask me for work, so now I have decided to begin to build an Agency again. But the next step to build a reliable team that can work great together. \\n\\n\\nCurrently we work from the home office (Co-Working Lounge) . Our team currently consists of 2 Graphic Designers out of LA , 2 In house web designers, and one Videographer in house.  Preferably we would like to work with someone who has some SEO experience , Social Media , and content/ creative writing skills. The ideal candidate must have an entrepreneurial drive to learn and build with us. This can potentially turn into a more full time opportunity if we work well together. Please read fully and only reply if you know you are capable of providing quality work, as well as have previous campaigns as reference. \\n\\n\\nIf you are looking for more stability in this tough industry, and would like to work with a small but dedicated team and grow alongside us, we would love to hear from you. \\n\\n\\nTalents that will be ideal include (*required) : *SEO, *SEM Rush, *Google Analytics, *Google Search Console, *Basic Wordpress Knowledge , Photoshop , Creative writing \\n\\nCompensation : 12-13/Hr 20-24 Hrs /Week \\n\\nBenefits of Working together: We get Referral based Business, Great for your portfolio , given our team experience we can help you close your own deals at the best prices, as well as ongoing professional development. \\n\\n\\nIf you can resonate with this, and feel like this is a great opportunity for you, please Send us an introduction to who you are, some of your recent work/ portfolio. \\n\\nHoping we can be a great fit and grow together !'"
      ]
     },
     "execution_count": 82,
     "metadata": {},
     "output_type": "execute_result"
    }
   ],
   "source": [
    "pd.read_csv(\"sent.csv\")[\"body\"][0]"
   ]
  },
  {
   "cell_type": "code",
   "execution_count": null,
   "metadata": {},
   "outputs": [],
   "source": []
  },
  {
   "cell_type": "code",
   "execution_count": 52,
   "metadata": {},
   "outputs": [],
   "source": []
  },
  {
   "cell_type": "code",
   "execution_count": 19,
   "metadata": {},
   "outputs": [],
   "source": [
    "x = pd.read_csv(\"sent.csv\")[\"title\"] + pd.read_csv(\"sent.csv\")[\"body\"]\n",
    "for i in x: \n",
    "    if i in sent: \n",
    "        print(i)"
   ]
  },
  {
   "cell_type": "code",
   "execution_count": 69,
   "metadata": {},
   "outputs": [
    {
     "data": {
      "text/html": [
       "<div>\n",
       "<style scoped>\n",
       "    .dataframe tbody tr th:only-of-type {\n",
       "        vertical-align: middle;\n",
       "    }\n",
       "\n",
       "    .dataframe tbody tr th {\n",
       "        vertical-align: top;\n",
       "    }\n",
       "\n",
       "    .dataframe thead th {\n",
       "        text-align: right;\n",
       "    }\n",
       "</style>\n",
       "<table border=\"1\" class=\"dataframe\">\n",
       "  <thead>\n",
       "    <tr style=\"text-align: right;\">\n",
       "      <th></th>\n",
       "      <th>title and body</th>\n",
       "    </tr>\n",
       "  </thead>\n",
       "  <tbody>\n",
       "    <tr>\n",
       "      <th>0</th>\n",
       "      <td>looking for some one to do my seo on website</td>\n",
       "    </tr>\n",
       "    <tr>\n",
       "      <th>1</th>\n",
       "      <td>3D Printing and Painting</td>\n",
       "    </tr>\n",
       "  </tbody>\n",
       "</table>\n",
       "</div>"
      ],
      "text/plain": [
       "                                 title and body\n",
       "0  looking for some one to do my seo on website\n",
       "1                      3D Printing and Painting"
      ]
     },
     "execution_count": 69,
     "metadata": {},
     "output_type": "execute_result"
    }
   ],
   "source": [
    "pd.DataFrame({\n",
    "    \"title and body\": [\"looking for some one to do my seo on website\", \"3D Printing and Painting\"]\n",
    "})"
   ]
  },
  {
   "cell_type": "code",
   "execution_count": 58,
   "metadata": {},
   "outputs": [],
   "source": [
    "pd.DataFrame(sent[\"gig\"].append(pd.Series(\"MY NAME IS KASEM\"), ignore_index=True)).to_csv(\"sent.csv\", index=False)"
   ]
  },
  {
   "cell_type": "code",
   "execution_count": 113,
   "metadata": {},
   "outputs": [
    {
     "data": {
      "text/html": [
       "<div>\n",
       "<style scoped>\n",
       "    .dataframe tbody tr th:only-of-type {\n",
       "        vertical-align: middle;\n",
       "    }\n",
       "\n",
       "    .dataframe tbody tr th {\n",
       "        vertical-align: top;\n",
       "    }\n",
       "\n",
       "    .dataframe thead th {\n",
       "        text-align: right;\n",
       "    }\n",
       "</style>\n",
       "<table border=\"1\" class=\"dataframe\">\n",
       "  <thead>\n",
       "    <tr style=\"text-align: right;\">\n",
       "      <th></th>\n",
       "      <th>gig</th>\n",
       "    </tr>\n",
       "  </thead>\n",
       "  <tbody>\n",
       "    <tr>\n",
       "      <th>0</th>\n",
       "      <td>Wanted: SEO Marketing Intern\\n\\nQR Code Link t...</td>\n",
       "    </tr>\n",
       "    <tr>\n",
       "      <th>1</th>\n",
       "      <td>Financial Accounting\\n\\nQR Code Link to This P...</td>\n",
       "    </tr>\n",
       "    <tr>\n",
       "      <th>2</th>\n",
       "      <td>Seeking Photography Model\\n\\nQR Code Link to T...</td>\n",
       "    </tr>\n",
       "    <tr>\n",
       "      <th>3</th>\n",
       "      <td>looking for some one to do my seo on website\\n...</td>\n",
       "    </tr>\n",
       "    <tr>\n",
       "      <th>4</th>\n",
       "      <td>Old couple or family wanted to model T shirt\\n...</td>\n",
       "    </tr>\n",
       "    <tr>\n",
       "      <th>...</th>\n",
       "      <td>...</td>\n",
       "    </tr>\n",
       "    <tr>\n",
       "      <th>162</th>\n",
       "      <td>i need a graphic design\\n\\n\\n\\ni'm looking for...</td>\n",
       "    </tr>\n",
       "    <tr>\n",
       "      <th>163</th>\n",
       "      <td>i need a video urgently\\n\\n\\n\\ni'm this is a t...</td>\n",
       "    </tr>\n",
       "    <tr>\n",
       "      <th>164</th>\n",
       "      <td>NaN</td>\n",
       "    </tr>\n",
       "    <tr>\n",
       "      <th>165</th>\n",
       "      <td>NaN</td>\n",
       "    </tr>\n",
       "    <tr>\n",
       "      <th>166</th>\n",
       "      <td>i need a graphic design\\n\\n\\n\\ni'm looking for...</td>\n",
       "    </tr>\n",
       "  </tbody>\n",
       "</table>\n",
       "<p>167 rows × 1 columns</p>\n",
       "</div>"
      ],
      "text/plain": [
       "                                                   gig\n",
       "0    Wanted: SEO Marketing Intern\\n\\nQR Code Link t...\n",
       "1    Financial Accounting\\n\\nQR Code Link to This P...\n",
       "2    Seeking Photography Model\\n\\nQR Code Link to T...\n",
       "3    looking for some one to do my seo on website\\n...\n",
       "4    Old couple or family wanted to model T shirt\\n...\n",
       "..                                                 ...\n",
       "162  i need a graphic design\\n\\n\\n\\ni'm looking for...\n",
       "163  i need a video urgently\\n\\n\\n\\ni'm this is a t...\n",
       "164                                                NaN\n",
       "165                                                NaN\n",
       "166  i need a graphic design\\n\\n\\n\\ni'm looking for...\n",
       "\n",
       "[167 rows x 1 columns]"
      ]
     },
     "execution_count": 113,
     "metadata": {},
     "output_type": "execute_result"
    }
   ],
   "source": [
    "sent = pd.read_csv(\"sent.csv\")\n",
    "sent"
   ]
  },
  {
   "cell_type": "code",
   "execution_count": 2,
   "metadata": {},
   "outputs": [],
   "source": [
    "import pandas as pd"
   ]
  },
  {
   "cell_type": "code",
   "execution_count": 9,
   "metadata": {},
   "outputs": [],
   "source": [
    "Nfiles = pd.read_csv(\"sent_Nfile1.csv\")\n",
    "for text, link in zip(Nfiles[\"field1_Text_Text\"], Nfiles[\"field1_Link_Link\"]):\n",
    "    Nfiles_sent = pd.DataFrame(Nfiles_sent['text&link'].append(pd.Series(text+link), ignore_index=True), columns = [\"text&link\"])"
   ]
  },
  {
   "cell_type": "code",
   "execution_count": 118,
   "metadata": {},
   "outputs": [],
   "source": [
    "sent = pd.DataFrame(sent['gig'].append(pd.Series(raw_job_post.strip()), ignore_index=True), columns = [\"gig\"])\n",
    "sent.to_csv(\"sent.csv\", index=False)"
   ]
  },
  {
   "cell_type": "code",
   "execution_count": 123,
   "metadata": {},
   "outputs": [
    {
     "data": {
      "text/plain": [
       "True"
      ]
     },
     "execution_count": 123,
     "metadata": {},
     "output_type": "execute_result"
    }
   ],
   "source": [
    "\"Fully Furnished Bed and Bath Available in Hayes Valley 2br/2ba Apt\" in Nfiles.values"
   ]
  },
  {
   "cell_type": "code",
   "execution_count": 12,
   "metadata": {},
   "outputs": [],
   "source": [
    "Nfiles_sent.to_csv(\"sent_Nfile1.csv\", index = False)"
   ]
  },
  {
   "cell_type": "code",
   "execution_count": 8,
   "metadata": {},
   "outputs": [
    {
     "data": {
      "text/html": [
       "<div>\n",
       "<style scoped>\n",
       "    .dataframe tbody tr th:only-of-type {\n",
       "        vertical-align: middle;\n",
       "    }\n",
       "\n",
       "    .dataframe tbody tr th {\n",
       "        vertical-align: top;\n",
       "    }\n",
       "\n",
       "    .dataframe thead th {\n",
       "        text-align: right;\n",
       "    }\n",
       "</style>\n",
       "<table border=\"1\" class=\"dataframe\">\n",
       "  <thead>\n",
       "    <tr style=\"text-align: right;\">\n",
       "      <th></th>\n",
       "      <th>text&amp;link</th>\n",
       "    </tr>\n",
       "  </thead>\n",
       "  <tbody>\n",
       "  </tbody>\n",
       "</table>\n",
       "</div>"
      ],
      "text/plain": [
       "Empty DataFrame\n",
       "Columns: [text&link]\n",
       "Index: []"
      ]
     },
     "execution_count": 8,
     "metadata": {},
     "output_type": "execute_result"
    }
   ],
   "source": []
  },
  {
   "cell_type": "code",
   "execution_count": null,
   "metadata": {},
   "outputs": [],
   "source": []
  }
 ],
 "metadata": {
  "kernelspec": {
   "display_name": "Python 3",
   "language": "python",
   "name": "python3"
  },
  "language_info": {
   "codemirror_mode": {
    "name": "ipython",
    "version": 3
   },
   "file_extension": ".py",
   "mimetype": "text/x-python",
   "name": "python",
   "nbconvert_exporter": "python",
   "pygments_lexer": "ipython3",
   "version": "3.6.9"
  }
 },
 "nbformat": 4,
 "nbformat_minor": 4
}
